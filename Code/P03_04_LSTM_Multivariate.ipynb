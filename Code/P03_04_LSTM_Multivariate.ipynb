{
 "cells": [
  {
   "cell_type": "markdown",
   "metadata": {},
   "source": [
    "# P03_03_LSTM_Multivariate\n"
   ]
  },
  {
   "cell_type": "code",
   "execution_count": 1,
   "metadata": {},
   "outputs": [],
   "source": [
    "section_fig_main_title = 'P03_03_LSTM_Multivariate_'"
   ]
  },
  {
   "cell_type": "code",
   "execution_count": 2,
   "metadata": {},
   "outputs": [
    {
     "data": {
      "text/plain": [
       "'2.6.0'"
      ]
     },
     "execution_count": 2,
     "metadata": {},
     "output_type": "execute_result"
    }
   ],
   "source": [
    "import tensorflow as tf\n",
    "tf.__version__"
   ]
  },
  {
   "cell_type": "code",
   "execution_count": 3,
   "metadata": {},
   "outputs": [],
   "source": [
    "import sys\n",
    "# print(sys.executable)"
   ]
  },
  {
   "cell_type": "code",
   "execution_count": 4,
   "metadata": {},
   "outputs": [],
   "source": [
    "# !/Users/amin/Desktop/proj/env/bin/python -m pip install matplotlib"
   ]
  },
  {
   "cell_type": "code",
   "execution_count": 5,
   "metadata": {},
   "outputs": [],
   "source": [
    "import pandas as pd\n",
    "import matplotlib.pyplot as plt\n",
    "import tensorflow as tf\n",
    "from tensorflow import keras"
   ]
  },
  {
   "cell_type": "code",
   "execution_count": 6,
   "metadata": {},
   "outputs": [],
   "source": [
    "%config InlineBackend.figure_format = 'retina'"
   ]
  },
  {
   "cell_type": "code",
   "execution_count": 7,
   "metadata": {},
   "outputs": [],
   "source": [
    "import gif\n",
    "from tqdm import tqdm"
   ]
  },
  {
   "cell_type": "code",
   "execution_count": 8,
   "metadata": {},
   "outputs": [],
   "source": [
    "import warnings\n",
    "warnings.filterwarnings('ignore')\n",
    "warnings.simplefilter(action='ignore', category=FutureWarning)"
   ]
  },
  {
   "cell_type": "code",
   "execution_count": 9,
   "metadata": {},
   "outputs": [],
   "source": [
    "import pandas as pd\n",
    "import numpy as np\n",
    "import seaborn as sns"
   ]
  },
  {
   "cell_type": "markdown",
   "metadata": {},
   "source": [
    "### Read data"
   ]
  },
  {
   "cell_type": "code",
   "execution_count": 10,
   "metadata": {},
   "outputs": [],
   "source": [
    "csv_path = \"../Data/jena_climate_2009_2016.csv\"\n",
    "df = pd.read_csv(csv_path, index_col=0, parse_dates=True)"
   ]
  },
  {
   "cell_type": "code",
   "execution_count": 11,
   "metadata": {},
   "outputs": [
    {
     "data": {
      "text/html": [
       "<div>\n",
       "<style scoped>\n",
       "    .dataframe tbody tr th:only-of-type {\n",
       "        vertical-align: middle;\n",
       "    }\n",
       "\n",
       "    .dataframe tbody tr th {\n",
       "        vertical-align: top;\n",
       "    }\n",
       "\n",
       "    .dataframe thead th {\n",
       "        text-align: right;\n",
       "    }\n",
       "</style>\n",
       "<table border=\"1\" class=\"dataframe\">\n",
       "  <thead>\n",
       "    <tr style=\"text-align: right;\">\n",
       "      <th></th>\n",
       "      <th>p (mbar)</th>\n",
       "      <th>T (degC)</th>\n",
       "      <th>Tpot (K)</th>\n",
       "      <th>Tdew (degC)</th>\n",
       "      <th>rh (%)</th>\n",
       "      <th>VPmax (mbar)</th>\n",
       "      <th>VPact (mbar)</th>\n",
       "      <th>VPdef (mbar)</th>\n",
       "      <th>sh (g/kg)</th>\n",
       "      <th>H2OC (mmol/mol)</th>\n",
       "      <th>rho (g/m**3)</th>\n",
       "      <th>wv (m/s)</th>\n",
       "      <th>max. wv (m/s)</th>\n",
       "      <th>wd (deg)</th>\n",
       "    </tr>\n",
       "    <tr>\n",
       "      <th>Date Time</th>\n",
       "      <th></th>\n",
       "      <th></th>\n",
       "      <th></th>\n",
       "      <th></th>\n",
       "      <th></th>\n",
       "      <th></th>\n",
       "      <th></th>\n",
       "      <th></th>\n",
       "      <th></th>\n",
       "      <th></th>\n",
       "      <th></th>\n",
       "      <th></th>\n",
       "      <th></th>\n",
       "      <th></th>\n",
       "    </tr>\n",
       "  </thead>\n",
       "  <tbody>\n",
       "    <tr>\n",
       "      <th>2009-01-01 00:10:00</th>\n",
       "      <td>996.52</td>\n",
       "      <td>-8.02</td>\n",
       "      <td>265.40</td>\n",
       "      <td>-8.90</td>\n",
       "      <td>93.3</td>\n",
       "      <td>3.33</td>\n",
       "      <td>3.11</td>\n",
       "      <td>0.22</td>\n",
       "      <td>1.94</td>\n",
       "      <td>3.12</td>\n",
       "      <td>1307.75</td>\n",
       "      <td>1.03</td>\n",
       "      <td>1.75</td>\n",
       "      <td>152.3</td>\n",
       "    </tr>\n",
       "    <tr>\n",
       "      <th>2009-01-01 00:20:00</th>\n",
       "      <td>996.57</td>\n",
       "      <td>-8.41</td>\n",
       "      <td>265.01</td>\n",
       "      <td>-9.28</td>\n",
       "      <td>93.4</td>\n",
       "      <td>3.23</td>\n",
       "      <td>3.02</td>\n",
       "      <td>0.21</td>\n",
       "      <td>1.89</td>\n",
       "      <td>3.03</td>\n",
       "      <td>1309.80</td>\n",
       "      <td>0.72</td>\n",
       "      <td>1.50</td>\n",
       "      <td>136.1</td>\n",
       "    </tr>\n",
       "    <tr>\n",
       "      <th>2009-01-01 00:30:00</th>\n",
       "      <td>996.53</td>\n",
       "      <td>-8.51</td>\n",
       "      <td>264.91</td>\n",
       "      <td>-9.31</td>\n",
       "      <td>93.9</td>\n",
       "      <td>3.21</td>\n",
       "      <td>3.01</td>\n",
       "      <td>0.20</td>\n",
       "      <td>1.88</td>\n",
       "      <td>3.02</td>\n",
       "      <td>1310.24</td>\n",
       "      <td>0.19</td>\n",
       "      <td>0.63</td>\n",
       "      <td>171.6</td>\n",
       "    </tr>\n",
       "    <tr>\n",
       "      <th>2009-01-01 00:40:00</th>\n",
       "      <td>996.51</td>\n",
       "      <td>-8.31</td>\n",
       "      <td>265.12</td>\n",
       "      <td>-9.07</td>\n",
       "      <td>94.2</td>\n",
       "      <td>3.26</td>\n",
       "      <td>3.07</td>\n",
       "      <td>0.19</td>\n",
       "      <td>1.92</td>\n",
       "      <td>3.08</td>\n",
       "      <td>1309.19</td>\n",
       "      <td>0.34</td>\n",
       "      <td>0.50</td>\n",
       "      <td>198.0</td>\n",
       "    </tr>\n",
       "    <tr>\n",
       "      <th>2009-01-01 00:50:00</th>\n",
       "      <td>996.51</td>\n",
       "      <td>-8.27</td>\n",
       "      <td>265.15</td>\n",
       "      <td>-9.04</td>\n",
       "      <td>94.1</td>\n",
       "      <td>3.27</td>\n",
       "      <td>3.08</td>\n",
       "      <td>0.19</td>\n",
       "      <td>1.92</td>\n",
       "      <td>3.09</td>\n",
       "      <td>1309.00</td>\n",
       "      <td>0.32</td>\n",
       "      <td>0.63</td>\n",
       "      <td>214.3</td>\n",
       "    </tr>\n",
       "  </tbody>\n",
       "</table>\n",
       "</div>"
      ],
      "text/plain": [
       "                     p (mbar)  T (degC)  Tpot (K)  Tdew (degC)  rh (%)  \\\n",
       "Date Time                                                                \n",
       "2009-01-01 00:10:00    996.52     -8.02    265.40        -8.90    93.3   \n",
       "2009-01-01 00:20:00    996.57     -8.41    265.01        -9.28    93.4   \n",
       "2009-01-01 00:30:00    996.53     -8.51    264.91        -9.31    93.9   \n",
       "2009-01-01 00:40:00    996.51     -8.31    265.12        -9.07    94.2   \n",
       "2009-01-01 00:50:00    996.51     -8.27    265.15        -9.04    94.1   \n",
       "\n",
       "                     VPmax (mbar)  VPact (mbar)  VPdef (mbar)  sh (g/kg)  \\\n",
       "Date Time                                                                  \n",
       "2009-01-01 00:10:00          3.33          3.11          0.22       1.94   \n",
       "2009-01-01 00:20:00          3.23          3.02          0.21       1.89   \n",
       "2009-01-01 00:30:00          3.21          3.01          0.20       1.88   \n",
       "2009-01-01 00:40:00          3.26          3.07          0.19       1.92   \n",
       "2009-01-01 00:50:00          3.27          3.08          0.19       1.92   \n",
       "\n",
       "                     H2OC (mmol/mol)  rho (g/m**3)  wv (m/s)  max. wv (m/s)  \\\n",
       "Date Time                                                                     \n",
       "2009-01-01 00:10:00             3.12       1307.75      1.03           1.75   \n",
       "2009-01-01 00:20:00             3.03       1309.80      0.72           1.50   \n",
       "2009-01-01 00:30:00             3.02       1310.24      0.19           0.63   \n",
       "2009-01-01 00:40:00             3.08       1309.19      0.34           0.50   \n",
       "2009-01-01 00:50:00             3.09       1309.00      0.32           0.63   \n",
       "\n",
       "                     wd (deg)  \n",
       "Date Time                      \n",
       "2009-01-01 00:10:00     152.3  \n",
       "2009-01-01 00:20:00     136.1  \n",
       "2009-01-01 00:30:00     171.6  \n",
       "2009-01-01 00:40:00     198.0  \n",
       "2009-01-01 00:50:00     214.3  "
      ]
     },
     "execution_count": 11,
     "metadata": {},
     "output_type": "execute_result"
    }
   ],
   "source": [
    "df.head()"
   ]
  },
  {
   "cell_type": "code",
   "execution_count": 53,
   "metadata": {},
   "outputs": [
    {
     "data": {
      "text/plain": [
       "(420551, 14)"
      ]
     },
     "execution_count": 53,
     "metadata": {},
     "output_type": "execute_result"
    }
   ],
   "source": [
    "df.shape"
   ]
  },
  {
   "cell_type": "markdown",
   "metadata": {},
   "source": [
    "Base on P02_03 EDA analysis I choose following columns for modeling."
   ]
  },
  {
   "cell_type": "markdown",
   "metadata": {},
   "source": [
    "The essential parameters to be considered for modeling are as follows.\n",
    "\n",
    "```\n",
    "'p (mbar)','Tpot (K)','Tdew (degC)','VPact (mbar)','sh (g/kg)','H2OC (mmol/mol)','rho (g/m**3)','wd (deg)'\n",
    "```"
   ]
  },
  {
   "cell_type": "code",
   "execution_count": 12,
   "metadata": {},
   "outputs": [],
   "source": [
    "# Importing the libraries\n",
    "import numpy as np\n",
    "import matplotlib.pyplot as plt\n",
    "# plt.style.use('fivethirtyeight')\n",
    "import pandas as pd\n",
    "from sklearn.preprocessing import MinMaxScaler\n",
    "from keras.models import Sequential\n",
    "from keras.layers import Dense, LSTM, Dropout, GRU, Bidirectional\n",
    "# from keras.optimizers import SGD\n",
    "from tensorflow.keras.optimizers import SGD\n",
    "\n",
    "import math\n",
    "from sklearn.metrics import mean_squared_error"
   ]
  },
  {
   "cell_type": "markdown",
   "metadata": {},
   "source": [
    "### Split the data"
   ]
  },
  {
   "cell_type": "code",
   "execution_count": 13,
   "metadata": {},
   "outputs": [],
   "source": [
    "split_fraction = 0.715\n",
    "train_split = int(split_fraction * int(df.shape[0]))\n",
    "step = 6\n",
    "\n",
    "past = 720\n",
    "future = 72\n",
    "learning_rate = 0.001\n",
    "batch_size = 256\n",
    "epochs = 10\n",
    "\n",
    "def normalize(data, train_split):\n",
    "    data_mean = data[:train_split].mean(axis=0)\n",
    "    data_std = data[:train_split].std(axis=0)\n",
    "    return (data - data_mean) / data_std"
   ]
  },
  {
   "cell_type": "code",
   "execution_count": 76,
   "metadata": {},
   "outputs": [
    {
     "data": {
      "text/plain": [
       "720"
      ]
     },
     "execution_count": 76,
     "metadata": {},
     "output_type": "execute_result"
    }
   ],
   "source": [
    "past"
   ]
  },
  {
   "cell_type": "code",
   "execution_count": 75,
   "metadata": {},
   "outputs": [
    {
     "data": {
      "text/plain": [
       "720"
      ]
     },
     "execution_count": 75,
     "metadata": {},
     "output_type": "execute_result"
    }
   ],
   "source": [
    "step*sequence_length"
   ]
  },
  {
   "cell_type": "code",
   "execution_count": 14,
   "metadata": {},
   "outputs": [],
   "source": [
    "selected_features = ['p (mbar)','Tpot (K)','Tdew (degC)',\n",
    "                     'VPact (mbar)','sh (g/kg)',\n",
    "                     'H2OC (mmol/mol)','rho (g/m**3)','wd (deg)']\n",
    "\n",
    "features = df[selected_features]\n",
    "features.index = df.index"
   ]
  },
  {
   "cell_type": "code",
   "execution_count": 15,
   "metadata": {},
   "outputs": [
    {
     "data": {
      "text/html": [
       "<div>\n",
       "<style scoped>\n",
       "    .dataframe tbody tr th:only-of-type {\n",
       "        vertical-align: middle;\n",
       "    }\n",
       "\n",
       "    .dataframe tbody tr th {\n",
       "        vertical-align: top;\n",
       "    }\n",
       "\n",
       "    .dataframe thead th {\n",
       "        text-align: right;\n",
       "    }\n",
       "</style>\n",
       "<table border=\"1\" class=\"dataframe\">\n",
       "  <thead>\n",
       "    <tr style=\"text-align: right;\">\n",
       "      <th></th>\n",
       "      <th>p (mbar)</th>\n",
       "      <th>Tpot (K)</th>\n",
       "      <th>Tdew (degC)</th>\n",
       "      <th>VPact (mbar)</th>\n",
       "      <th>sh (g/kg)</th>\n",
       "      <th>H2OC (mmol/mol)</th>\n",
       "      <th>rho (g/m**3)</th>\n",
       "      <th>wd (deg)</th>\n",
       "    </tr>\n",
       "    <tr>\n",
       "      <th>Date Time</th>\n",
       "      <th></th>\n",
       "      <th></th>\n",
       "      <th></th>\n",
       "      <th></th>\n",
       "      <th></th>\n",
       "      <th></th>\n",
       "      <th></th>\n",
       "      <th></th>\n",
       "    </tr>\n",
       "  </thead>\n",
       "  <tbody>\n",
       "    <tr>\n",
       "      <th>2009-01-01 00:10:00</th>\n",
       "      <td>996.52</td>\n",
       "      <td>265.40</td>\n",
       "      <td>-8.90</td>\n",
       "      <td>3.11</td>\n",
       "      <td>1.94</td>\n",
       "      <td>3.12</td>\n",
       "      <td>1307.75</td>\n",
       "      <td>152.3</td>\n",
       "    </tr>\n",
       "    <tr>\n",
       "      <th>2009-01-01 00:20:00</th>\n",
       "      <td>996.57</td>\n",
       "      <td>265.01</td>\n",
       "      <td>-9.28</td>\n",
       "      <td>3.02</td>\n",
       "      <td>1.89</td>\n",
       "      <td>3.03</td>\n",
       "      <td>1309.80</td>\n",
       "      <td>136.1</td>\n",
       "    </tr>\n",
       "    <tr>\n",
       "      <th>2009-01-01 00:30:00</th>\n",
       "      <td>996.53</td>\n",
       "      <td>264.91</td>\n",
       "      <td>-9.31</td>\n",
       "      <td>3.01</td>\n",
       "      <td>1.88</td>\n",
       "      <td>3.02</td>\n",
       "      <td>1310.24</td>\n",
       "      <td>171.6</td>\n",
       "    </tr>\n",
       "    <tr>\n",
       "      <th>2009-01-01 00:40:00</th>\n",
       "      <td>996.51</td>\n",
       "      <td>265.12</td>\n",
       "      <td>-9.07</td>\n",
       "      <td>3.07</td>\n",
       "      <td>1.92</td>\n",
       "      <td>3.08</td>\n",
       "      <td>1309.19</td>\n",
       "      <td>198.0</td>\n",
       "    </tr>\n",
       "    <tr>\n",
       "      <th>2009-01-01 00:50:00</th>\n",
       "      <td>996.51</td>\n",
       "      <td>265.15</td>\n",
       "      <td>-9.04</td>\n",
       "      <td>3.08</td>\n",
       "      <td>1.92</td>\n",
       "      <td>3.09</td>\n",
       "      <td>1309.00</td>\n",
       "      <td>214.3</td>\n",
       "    </tr>\n",
       "  </tbody>\n",
       "</table>\n",
       "</div>"
      ],
      "text/plain": [
       "                     p (mbar)  Tpot (K)  Tdew (degC)  VPact (mbar)  sh (g/kg)  \\\n",
       "Date Time                                                                       \n",
       "2009-01-01 00:10:00    996.52    265.40        -8.90          3.11       1.94   \n",
       "2009-01-01 00:20:00    996.57    265.01        -9.28          3.02       1.89   \n",
       "2009-01-01 00:30:00    996.53    264.91        -9.31          3.01       1.88   \n",
       "2009-01-01 00:40:00    996.51    265.12        -9.07          3.07       1.92   \n",
       "2009-01-01 00:50:00    996.51    265.15        -9.04          3.08       1.92   \n",
       "\n",
       "                     H2OC (mmol/mol)  rho (g/m**3)  wd (deg)  \n",
       "Date Time                                                     \n",
       "2009-01-01 00:10:00             3.12       1307.75     152.3  \n",
       "2009-01-01 00:20:00             3.03       1309.80     136.1  \n",
       "2009-01-01 00:30:00             3.02       1310.24     171.6  \n",
       "2009-01-01 00:40:00             3.08       1309.19     198.0  \n",
       "2009-01-01 00:50:00             3.09       1309.00     214.3  "
      ]
     },
     "execution_count": 15,
     "metadata": {},
     "output_type": "execute_result"
    }
   ],
   "source": [
    "features.head()"
   ]
  },
  {
   "cell_type": "code",
   "execution_count": 16,
   "metadata": {},
   "outputs": [
    {
     "data": {
      "text/plain": [
       "(420551, 8)"
      ]
     },
     "execution_count": 16,
     "metadata": {},
     "output_type": "execute_result"
    }
   ],
   "source": [
    "features.shape"
   ]
  },
  {
   "cell_type": "markdown",
   "metadata": {},
   "source": [
    "### Normalizing data"
   ]
  },
  {
   "cell_type": "code",
   "execution_count": 17,
   "metadata": {},
   "outputs": [
    {
     "data": {
      "text/html": [
       "<div>\n",
       "<style scoped>\n",
       "    .dataframe tbody tr th:only-of-type {\n",
       "        vertical-align: middle;\n",
       "    }\n",
       "\n",
       "    .dataframe tbody tr th {\n",
       "        vertical-align: top;\n",
       "    }\n",
       "\n",
       "    .dataframe thead th {\n",
       "        text-align: right;\n",
       "    }\n",
       "</style>\n",
       "<table border=\"1\" class=\"dataframe\">\n",
       "  <thead>\n",
       "    <tr style=\"text-align: right;\">\n",
       "      <th></th>\n",
       "      <th>0</th>\n",
       "      <th>1</th>\n",
       "      <th>2</th>\n",
       "      <th>3</th>\n",
       "      <th>4</th>\n",
       "      <th>5</th>\n",
       "      <th>6</th>\n",
       "      <th>7</th>\n",
       "    </tr>\n",
       "  </thead>\n",
       "  <tbody>\n",
       "    <tr>\n",
       "      <th>0</th>\n",
       "      <td>0.955451</td>\n",
       "      <td>-2.060649</td>\n",
       "      <td>-1.953135</td>\n",
       "      <td>-1.497879</td>\n",
       "      <td>-1.500927</td>\n",
       "      <td>-1.503167</td>\n",
       "      <td>2.237658</td>\n",
       "      <td>-0.241025</td>\n",
       "    </tr>\n",
       "    <tr>\n",
       "      <th>1</th>\n",
       "      <td>0.961528</td>\n",
       "      <td>-2.105453</td>\n",
       "      <td>-2.007509</td>\n",
       "      <td>-1.519123</td>\n",
       "      <td>-1.519521</td>\n",
       "      <td>-1.524154</td>\n",
       "      <td>2.287838</td>\n",
       "      <td>-0.425626</td>\n",
       "    </tr>\n",
       "    <tr>\n",
       "      <th>2</th>\n",
       "      <td>0.956666</td>\n",
       "      <td>-2.116941</td>\n",
       "      <td>-2.011802</td>\n",
       "      <td>-1.521483</td>\n",
       "      <td>-1.523239</td>\n",
       "      <td>-1.526486</td>\n",
       "      <td>2.298608</td>\n",
       "      <td>-0.021100</td>\n",
       "    </tr>\n",
       "    <tr>\n",
       "      <th>3</th>\n",
       "      <td>0.954236</td>\n",
       "      <td>-2.092816</td>\n",
       "      <td>-1.977460</td>\n",
       "      <td>-1.507321</td>\n",
       "      <td>-1.508364</td>\n",
       "      <td>-1.512494</td>\n",
       "      <td>2.272906</td>\n",
       "      <td>0.279731</td>\n",
       "    </tr>\n",
       "    <tr>\n",
       "      <th>4</th>\n",
       "      <td>0.954236</td>\n",
       "      <td>-2.089370</td>\n",
       "      <td>-1.973168</td>\n",
       "      <td>-1.504960</td>\n",
       "      <td>-1.508364</td>\n",
       "      <td>-1.510162</td>\n",
       "      <td>2.268256</td>\n",
       "      <td>0.465471</td>\n",
       "    </tr>\n",
       "  </tbody>\n",
       "</table>\n",
       "</div>"
      ],
      "text/plain": [
       "          0         1         2         3         4         5         6  \\\n",
       "0  0.955451 -2.060649 -1.953135 -1.497879 -1.500927 -1.503167  2.237658   \n",
       "1  0.961528 -2.105453 -2.007509 -1.519123 -1.519521 -1.524154  2.287838   \n",
       "2  0.956666 -2.116941 -2.011802 -1.521483 -1.523239 -1.526486  2.298608   \n",
       "3  0.954236 -2.092816 -1.977460 -1.507321 -1.508364 -1.512494  2.272906   \n",
       "4  0.954236 -2.089370 -1.973168 -1.504960 -1.508364 -1.510162  2.268256   \n",
       "\n",
       "          7  \n",
       "0 -0.241025  \n",
       "1 -0.425626  \n",
       "2 -0.021100  \n",
       "3  0.279731  \n",
       "4  0.465471  "
      ]
     },
     "execution_count": 17,
     "metadata": {},
     "output_type": "execute_result"
    }
   ],
   "source": [
    "features = normalize(features.values, train_split)\n",
    "features = pd.DataFrame(features)\n",
    "features.head()"
   ]
  },
  {
   "cell_type": "code",
   "execution_count": 18,
   "metadata": {},
   "outputs": [],
   "source": [
    "train_data = features.loc[0 : train_split - 1]\n",
    "val_data = features.loc[train_split:]"
   ]
  },
  {
   "cell_type": "code",
   "execution_count": 40,
   "metadata": {},
   "outputs": [
    {
     "name": "stdout",
     "output_type": "stream",
     "text": [
      "(300693, 8)\n",
      "(119858, 8)\n"
     ]
    }
   ],
   "source": [
    "print(train_data.shape)\n",
    "print(val_data.shape)"
   ]
  },
  {
   "cell_type": "code",
   "execution_count": 64,
   "metadata": {},
   "outputs": [
    {
     "data": {
      "text/plain": [
       "301485"
      ]
     },
     "execution_count": 64,
     "metadata": {},
     "output_type": "execute_result"
    }
   ],
   "source": [
    "792+300693"
   ]
  },
  {
   "cell_type": "code",
   "execution_count": null,
   "metadata": {},
   "outputs": [],
   "source": [
    "past = 720\n",
    "future = 72"
   ]
  },
  {
   "cell_type": "code",
   "execution_count": 52,
   "metadata": {},
   "outputs": [
    {
     "data": {
      "text/plain": [
       "420551"
      ]
     },
     "execution_count": 52,
     "metadata": {},
     "output_type": "execute_result"
    }
   ],
   "source": [
    "119858 + 300693"
   ]
  },
  {
   "cell_type": "code",
   "execution_count": 55,
   "metadata": {},
   "outputs": [
    {
     "data": {
      "text/plain": [
       "301413"
      ]
     },
     "execution_count": 55,
     "metadata": {},
     "output_type": "execute_result"
    }
   ],
   "source": [
    "720 + 300693"
   ]
  },
  {
   "cell_type": "code",
   "execution_count": 19,
   "metadata": {},
   "outputs": [
    {
     "data": {
      "text/html": [
       "<div>\n",
       "<style scoped>\n",
       "    .dataframe tbody tr th:only-of-type {\n",
       "        vertical-align: middle;\n",
       "    }\n",
       "\n",
       "    .dataframe tbody tr th {\n",
       "        vertical-align: top;\n",
       "    }\n",
       "\n",
       "    .dataframe thead th {\n",
       "        text-align: right;\n",
       "    }\n",
       "</style>\n",
       "<table border=\"1\" class=\"dataframe\">\n",
       "  <thead>\n",
       "    <tr style=\"text-align: right;\">\n",
       "      <th></th>\n",
       "      <th>0</th>\n",
       "      <th>1</th>\n",
       "      <th>2</th>\n",
       "      <th>3</th>\n",
       "      <th>4</th>\n",
       "      <th>5</th>\n",
       "      <th>6</th>\n",
       "      <th>7</th>\n",
       "    </tr>\n",
       "  </thead>\n",
       "  <tbody>\n",
       "    <tr>\n",
       "      <th>0</th>\n",
       "      <td>0.955451</td>\n",
       "      <td>-2.060649</td>\n",
       "      <td>-1.953135</td>\n",
       "      <td>-1.497879</td>\n",
       "      <td>-1.500927</td>\n",
       "      <td>-1.503167</td>\n",
       "      <td>2.237658</td>\n",
       "      <td>-0.241025</td>\n",
       "    </tr>\n",
       "    <tr>\n",
       "      <th>1</th>\n",
       "      <td>0.961528</td>\n",
       "      <td>-2.105453</td>\n",
       "      <td>-2.007509</td>\n",
       "      <td>-1.519123</td>\n",
       "      <td>-1.519521</td>\n",
       "      <td>-1.524154</td>\n",
       "      <td>2.287838</td>\n",
       "      <td>-0.425626</td>\n",
       "    </tr>\n",
       "    <tr>\n",
       "      <th>2</th>\n",
       "      <td>0.956666</td>\n",
       "      <td>-2.116941</td>\n",
       "      <td>-2.011802</td>\n",
       "      <td>-1.521483</td>\n",
       "      <td>-1.523239</td>\n",
       "      <td>-1.526486</td>\n",
       "      <td>2.298608</td>\n",
       "      <td>-0.021100</td>\n",
       "    </tr>\n",
       "    <tr>\n",
       "      <th>3</th>\n",
       "      <td>0.954236</td>\n",
       "      <td>-2.092816</td>\n",
       "      <td>-1.977460</td>\n",
       "      <td>-1.507321</td>\n",
       "      <td>-1.508364</td>\n",
       "      <td>-1.512494</td>\n",
       "      <td>2.272906</td>\n",
       "      <td>0.279731</td>\n",
       "    </tr>\n",
       "    <tr>\n",
       "      <th>4</th>\n",
       "      <td>0.954236</td>\n",
       "      <td>-2.089370</td>\n",
       "      <td>-1.973168</td>\n",
       "      <td>-1.504960</td>\n",
       "      <td>-1.508364</td>\n",
       "      <td>-1.510162</td>\n",
       "      <td>2.268256</td>\n",
       "      <td>0.465471</td>\n",
       "    </tr>\n",
       "  </tbody>\n",
       "</table>\n",
       "</div>"
      ],
      "text/plain": [
       "          0         1         2         3         4         5         6  \\\n",
       "0  0.955451 -2.060649 -1.953135 -1.497879 -1.500927 -1.503167  2.237658   \n",
       "1  0.961528 -2.105453 -2.007509 -1.519123 -1.519521 -1.524154  2.287838   \n",
       "2  0.956666 -2.116941 -2.011802 -1.521483 -1.523239 -1.526486  2.298608   \n",
       "3  0.954236 -2.092816 -1.977460 -1.507321 -1.508364 -1.512494  2.272906   \n",
       "4  0.954236 -2.089370 -1.973168 -1.504960 -1.508364 -1.510162  2.268256   \n",
       "\n",
       "          7  \n",
       "0 -0.241025  \n",
       "1 -0.425626  \n",
       "2 -0.021100  \n",
       "3  0.279731  \n",
       "4  0.465471  "
      ]
     },
     "execution_count": 19,
     "metadata": {},
     "output_type": "execute_result"
    }
   ],
   "source": [
    "train_data.head()"
   ]
  },
  {
   "cell_type": "code",
   "execution_count": 20,
   "metadata": {},
   "outputs": [
    {
     "name": "stdout",
     "output_type": "stream",
     "text": [
      "start =  792\n",
      "end =  301485\n",
      "train_split =  300693\n",
      "sequence_length =  120\n"
     ]
    }
   ],
   "source": [
    "start = past + future\n",
    "end = start + train_split\n",
    "print('start = ', start)\n",
    "print('end = ', end)\n",
    "print('train_split = ', train_split)\n",
    "sequence_length = int(past / step)\n",
    "print('sequence_length = ', sequence_length)"
   ]
  },
  {
   "cell_type": "markdown",
   "metadata": {},
   "source": [
    "### Find out the temprature for next 72 hours"
   ]
  },
  {
   "cell_type": "code",
   "execution_count": 46,
   "metadata": {},
   "outputs": [
    {
     "data": {
      "text/html": [
       "<div>\n",
       "<style scoped>\n",
       "    .dataframe tbody tr th:only-of-type {\n",
       "        vertical-align: middle;\n",
       "    }\n",
       "\n",
       "    .dataframe tbody tr th {\n",
       "        vertical-align: top;\n",
       "    }\n",
       "\n",
       "    .dataframe thead th {\n",
       "        text-align: right;\n",
       "    }\n",
       "</style>\n",
       "<table border=\"1\" class=\"dataframe\">\n",
       "  <thead>\n",
       "    <tr style=\"text-align: right;\">\n",
       "      <th></th>\n",
       "      <th>0</th>\n",
       "      <th>1</th>\n",
       "      <th>2</th>\n",
       "      <th>3</th>\n",
       "      <th>4</th>\n",
       "      <th>5</th>\n",
       "      <th>6</th>\n",
       "      <th>7</th>\n",
       "    </tr>\n",
       "  </thead>\n",
       "  <tbody>\n",
       "    <tr>\n",
       "      <th>0</th>\n",
       "      <td>0.955451</td>\n",
       "      <td>-2.060649</td>\n",
       "      <td>-1.953135</td>\n",
       "      <td>-1.497879</td>\n",
       "      <td>-1.500927</td>\n",
       "      <td>-1.503167</td>\n",
       "      <td>2.237658</td>\n",
       "      <td>-0.241025</td>\n",
       "    </tr>\n",
       "    <tr>\n",
       "      <th>1</th>\n",
       "      <td>0.961528</td>\n",
       "      <td>-2.105453</td>\n",
       "      <td>-2.007509</td>\n",
       "      <td>-1.519123</td>\n",
       "      <td>-1.519521</td>\n",
       "      <td>-1.524154</td>\n",
       "      <td>2.287838</td>\n",
       "      <td>-0.425626</td>\n",
       "    </tr>\n",
       "    <tr>\n",
       "      <th>2</th>\n",
       "      <td>0.956666</td>\n",
       "      <td>-2.116941</td>\n",
       "      <td>-2.011802</td>\n",
       "      <td>-1.521483</td>\n",
       "      <td>-1.523239</td>\n",
       "      <td>-1.526486</td>\n",
       "      <td>2.298608</td>\n",
       "      <td>-0.021100</td>\n",
       "    </tr>\n",
       "    <tr>\n",
       "      <th>3</th>\n",
       "      <td>0.954236</td>\n",
       "      <td>-2.092816</td>\n",
       "      <td>-1.977460</td>\n",
       "      <td>-1.507321</td>\n",
       "      <td>-1.508364</td>\n",
       "      <td>-1.512494</td>\n",
       "      <td>2.272906</td>\n",
       "      <td>0.279731</td>\n",
       "    </tr>\n",
       "    <tr>\n",
       "      <th>4</th>\n",
       "      <td>0.954236</td>\n",
       "      <td>-2.089370</td>\n",
       "      <td>-1.973168</td>\n",
       "      <td>-1.504960</td>\n",
       "      <td>-1.508364</td>\n",
       "      <td>-1.510162</td>\n",
       "      <td>2.268256</td>\n",
       "      <td>0.465471</td>\n",
       "    </tr>\n",
       "  </tbody>\n",
       "</table>\n",
       "</div>"
      ],
      "text/plain": [
       "          0         1         2         3         4         5         6  \\\n",
       "0  0.955451 -2.060649 -1.953135 -1.497879 -1.500927 -1.503167  2.237658   \n",
       "1  0.961528 -2.105453 -2.007509 -1.519123 -1.519521 -1.524154  2.287838   \n",
       "2  0.956666 -2.116941 -2.011802 -1.521483 -1.523239 -1.526486  2.298608   \n",
       "3  0.954236 -2.092816 -1.977460 -1.507321 -1.508364 -1.512494  2.272906   \n",
       "4  0.954236 -2.089370 -1.973168 -1.504960 -1.508364 -1.510162  2.268256   \n",
       "\n",
       "          7  \n",
       "0 -0.241025  \n",
       "1 -0.425626  \n",
       "2 -0.021100  \n",
       "3  0.279731  \n",
       "4  0.465471  "
      ]
     },
     "execution_count": 46,
     "metadata": {},
     "output_type": "execute_result"
    }
   ],
   "source": [
    "train_data.head()"
   ]
  },
  {
   "cell_type": "code",
   "execution_count": 63,
   "metadata": {},
   "outputs": [],
   "source": [
    "# train_data[[i for i in range(7)]].values"
   ]
  },
  {
   "cell_type": "markdown",
   "metadata": {},
   "source": [
    "### choose y column"
   ]
  },
  {
   "cell_type": "code",
   "execution_count": 48,
   "metadata": {},
   "outputs": [
    {
     "data": {
      "text/html": [
       "<div>\n",
       "<style scoped>\n",
       "    .dataframe tbody tr th:only-of-type {\n",
       "        vertical-align: middle;\n",
       "    }\n",
       "\n",
       "    .dataframe tbody tr th {\n",
       "        vertical-align: top;\n",
       "    }\n",
       "\n",
       "    .dataframe thead th {\n",
       "        text-align: right;\n",
       "    }\n",
       "</style>\n",
       "<table border=\"1\" class=\"dataframe\">\n",
       "  <thead>\n",
       "    <tr style=\"text-align: right;\">\n",
       "      <th></th>\n",
       "      <th>1</th>\n",
       "    </tr>\n",
       "  </thead>\n",
       "  <tbody>\n",
       "    <tr>\n",
       "      <th>792</th>\n",
       "      <td>-2.810826</td>\n",
       "    </tr>\n",
       "    <tr>\n",
       "      <th>793</th>\n",
       "      <td>-2.766022</td>\n",
       "    </tr>\n",
       "    <tr>\n",
       "      <th>794</th>\n",
       "      <td>-2.705135</td>\n",
       "    </tr>\n",
       "    <tr>\n",
       "      <th>795</th>\n",
       "      <td>-2.659182</td>\n",
       "    </tr>\n",
       "    <tr>\n",
       "      <th>796</th>\n",
       "      <td>-2.571872</td>\n",
       "    </tr>\n",
       "    <tr>\n",
       "      <th>...</th>\n",
       "      <td>...</td>\n",
       "    </tr>\n",
       "    <tr>\n",
       "      <th>301480</th>\n",
       "      <td>0.216303</td>\n",
       "    </tr>\n",
       "    <tr>\n",
       "      <th>301481</th>\n",
       "      <td>0.154267</td>\n",
       "    </tr>\n",
       "    <tr>\n",
       "      <th>301482</th>\n",
       "      <td>0.207112</td>\n",
       "    </tr>\n",
       "    <tr>\n",
       "      <th>301483</th>\n",
       "      <td>0.248469</td>\n",
       "    </tr>\n",
       "    <tr>\n",
       "      <th>301484</th>\n",
       "      <td>0.192177</td>\n",
       "    </tr>\n",
       "  </tbody>\n",
       "</table>\n",
       "<p>300693 rows × 1 columns</p>\n",
       "</div>"
      ],
      "text/plain": [
       "               1\n",
       "792    -2.810826\n",
       "793    -2.766022\n",
       "794    -2.705135\n",
       "795    -2.659182\n",
       "796    -2.571872\n",
       "...          ...\n",
       "301480  0.216303\n",
       "301481  0.154267\n",
       "301482  0.207112\n",
       "301483  0.248469\n",
       "301484  0.192177\n",
       "\n",
       "[300693 rows x 1 columns]"
      ]
     },
     "execution_count": 48,
     "metadata": {},
     "output_type": "execute_result"
    }
   ],
   "source": [
    "features.iloc[start:end][[1]]"
   ]
  },
  {
   "cell_type": "code",
   "execution_count": 21,
   "metadata": {},
   "outputs": [],
   "source": [
    "x_train = train_data[[i for i in range(7)]].values\n",
    "y_train = features.iloc[start:end][[1]]"
   ]
  },
  {
   "cell_type": "code",
   "execution_count": 58,
   "metadata": {},
   "outputs": [],
   "source": [
    "# print('type = ', type(x_train))\n",
    "# print(\"len of \", len(x_train))\n",
    "# x_train"
   ]
  },
  {
   "cell_type": "code",
   "execution_count": 59,
   "metadata": {},
   "outputs": [],
   "source": [
    "# print('type = ', type(y_train))\n",
    "# print(\"size = \", y_train.size)\n",
    "# # y_train.head()"
   ]
  },
  {
   "cell_type": "code",
   "execution_count": 72,
   "metadata": {},
   "outputs": [
    {
     "data": {
      "text/plain": [
       "120"
      ]
     },
     "execution_count": 72,
     "metadata": {},
     "output_type": "execute_result"
    }
   ],
   "source": [
    "sequence_length"
   ]
  },
  {
   "cell_type": "code",
   "execution_count": 74,
   "metadata": {},
   "outputs": [
    {
     "data": {
      "text/plain": [
       "720"
      ]
     },
     "execution_count": 74,
     "metadata": {},
     "output_type": "execute_result"
    }
   ],
   "source": [
    "step*sequence_length"
   ]
  },
  {
   "cell_type": "markdown",
   "metadata": {},
   "source": [
    "```python\n",
    "Example 1:\n",
    "\n",
    "Consider indices `[0, 1, ... 99]`.\n",
    "With `sequence_length=10,  sampling_rate=2, sequence_stride=3`,\n",
    "`shuffle=False`, the dataset will yield batches of sequences\n",
    "composed of the following indices:\n",
    "\n",
    "\n",
    "First sequence:  [0  2  4  6  8 10 12 14 16 18]\n",
    "Second sequence: [3  5  7  9 11 13 15 17 19 21]\n",
    "Third sequence:  [6  8 10 12 14 16 18 20 22 24]\n",
    "\n",
    "\n",
    "```\n",
    "\n",
    "The stride defult value is 1. \n",
    "Note that the train and validation data set already divided considering the past value = 720, future = 72."
   ]
  },
  {
   "cell_type": "markdown",
   "metadata": {},
   "source": [
    "### Preprocessing data "
   ]
  },
  {
   "cell_type": "code",
   "execution_count": 56,
   "metadata": {},
   "outputs": [],
   "source": [
    "dataset_train = keras.preprocessing.timeseries_dataset_from_array(x_train,\n",
    "                                                                  y_train,\n",
    "                                                                  sequence_length=sequence_length,\n",
    "                                                                  sampling_rate=step,\n",
    "                                                                  batch_size=batch_size,\n",
    "                                                                  )"
   ]
  },
  {
   "cell_type": "code",
   "execution_count": 62,
   "metadata": {},
   "outputs": [
    {
     "data": {
      "text/plain": [
       "tensorflow.python.data.ops.dataset_ops.BatchDataset"
      ]
     },
     "execution_count": 62,
     "metadata": {},
     "output_type": "execute_result"
    }
   ],
   "source": [
    "type(dataset_train)"
   ]
  },
  {
   "cell_type": "code",
   "execution_count": 65,
   "metadata": {},
   "outputs": [],
   "source": [
    "x_end = len(val_data) - past - future\n",
    "label_start = train_split + past + future"
   ]
  },
  {
   "cell_type": "code",
   "execution_count": 69,
   "metadata": {},
   "outputs": [
    {
     "data": {
      "text/plain": [
       "300693"
      ]
     },
     "execution_count": 69,
     "metadata": {},
     "output_type": "execute_result"
    }
   ],
   "source": [
    "train_split"
   ]
  },
  {
   "cell_type": "code",
   "execution_count": 68,
   "metadata": {},
   "outputs": [
    {
     "data": {
      "text/plain": [
       "119858"
      ]
     },
     "execution_count": 68,
     "metadata": {},
     "output_type": "execute_result"
    }
   ],
   "source": [
    "len(val_data)"
   ]
  },
  {
   "cell_type": "code",
   "execution_count": 66,
   "metadata": {},
   "outputs": [
    {
     "data": {
      "text/plain": [
       "119066"
      ]
     },
     "execution_count": 66,
     "metadata": {},
     "output_type": "execute_result"
    }
   ],
   "source": [
    "x_end"
   ]
  },
  {
   "cell_type": "code",
   "execution_count": 67,
   "metadata": {},
   "outputs": [
    {
     "data": {
      "text/plain": [
       "301485"
      ]
     },
     "execution_count": 67,
     "metadata": {},
     "output_type": "execute_result"
    }
   ],
   "source": [
    "label_start"
   ]
  },
  {
   "cell_type": "code",
   "execution_count": 70,
   "metadata": {},
   "outputs": [
    {
     "data": {
      "text/plain": [
       "120"
      ]
     },
     "execution_count": 70,
     "metadata": {},
     "output_type": "execute_result"
    }
   ],
   "source": [
    "sequence_length"
   ]
  },
  {
   "cell_type": "code",
   "execution_count": 25,
   "metadata": {},
   "outputs": [
    {
     "name": "stdout",
     "output_type": "stream",
     "text": [
      "Input shape: (256, 120, 7)\n",
      "Target shape: (256, 1)\n"
     ]
    },
    {
     "name": "stderr",
     "output_type": "stream",
     "text": [
      "2021-10-18 10:24:53.008295: I tensorflow/compiler/mlir/mlir_graph_optimization_pass.cc:185] None of the MLIR Optimization Passes are enabled (registered 2)\n"
     ]
    }
   ],
   "source": [
    "x_val = val_data.iloc[:x_end][[i for i in range(7)]].values\n",
    "y_val = features.iloc[label_start:][[1]]\n",
    "\n",
    "dataset_val = keras.preprocessing.timeseries_dataset_from_array(x_val,\n",
    "                                                                y_val,\n",
    "                                                                sequence_length=sequence_length,\n",
    "                                                                sampling_rate=step,\n",
    "                                                                batch_size=batch_size,\n",
    "                                                                )\n",
    "\n",
    "\n",
    "for batch in dataset_train.take(1):\n",
    "    inputs, targets = batch\n",
    "\n",
    "print(\"Input shape:\", inputs.numpy().shape)\n",
    "print(\"Target shape:\", targets.numpy().shape)"
   ]
  },
  {
   "cell_type": "code",
   "execution_count": 71,
   "metadata": {},
   "outputs": [
    {
     "data": {
      "text/plain": [
       "30720"
      ]
     },
     "execution_count": 71,
     "metadata": {},
     "output_type": "execute_result"
    }
   ],
   "source": [
    "256*120"
   ]
  },
  {
   "cell_type": "markdown",
   "metadata": {},
   "source": [
    "### Assemble keras model"
   ]
  },
  {
   "cell_type": "code",
   "execution_count": 26,
   "metadata": {},
   "outputs": [
    {
     "name": "stdout",
     "output_type": "stream",
     "text": [
      "Model: \"model\"\n",
      "_________________________________________________________________\n",
      "Layer (type)                 Output Shape              Param #   \n",
      "=================================================================\n",
      "input_1 (InputLayer)         [(None, 120, 7)]          0         \n",
      "_________________________________________________________________\n",
      "lstm (LSTM)                  (None, 32)                5120      \n",
      "_________________________________________________________________\n",
      "dense (Dense)                (None, 1)                 33        \n",
      "=================================================================\n",
      "Total params: 5,153\n",
      "Trainable params: 5,153\n",
      "Non-trainable params: 0\n",
      "_________________________________________________________________\n"
     ]
    }
   ],
   "source": [
    "inputs = keras.layers.Input(shape=(inputs.shape[1], \n",
    "                                   inputs.shape[2]))\n",
    "\n",
    "lstm_out = keras.layers.LSTM(32)(inputs)\n",
    "outputs = keras.layers.Dense(1)(lstm_out)\n",
    "\n",
    "model = keras.Model(inputs=inputs, outputs=outputs)\n",
    "model.compile(optimizer=keras.optimizers.Adam(learning_rate=learning_rate), \n",
    "              loss=\"mse\")\n",
    "\n",
    "model.summary()"
   ]
  },
  {
   "cell_type": "markdown",
   "metadata": {},
   "source": [
    "### Fit the model"
   ]
  },
  {
   "cell_type": "code",
   "execution_count": 34,
   "metadata": {},
   "outputs": [
    {
     "name": "stdout",
     "output_type": "stream",
     "text": [
      "Epoch 1/10\n",
      "1172/1172 [==============================] - 80s 67ms/step - loss: 0.2305 - val_loss: 0.1640\n",
      "\n",
      "Epoch 00001: val_loss improved from inf to 0.16396, saving model to LSTM_Multivariate.h5\n",
      "Epoch 2/10\n",
      "1172/1172 [==============================] - 87s 75ms/step - loss: 0.1406 - val_loss: 0.1515\n",
      "\n",
      "Epoch 00002: val_loss improved from 0.16396 to 0.15145, saving model to LSTM_Multivariate.h5\n",
      "Epoch 3/10\n",
      "1172/1172 [==============================] - 74s 63ms/step - loss: 0.1282 - val_loss: 0.1449\n",
      "\n",
      "Epoch 00003: val_loss improved from 0.15145 to 0.14494, saving model to LSTM_Multivariate.h5\n",
      "Epoch 4/10\n",
      "1172/1172 [==============================] - 75s 64ms/step - loss: 0.1236 - val_loss: 0.1438\n",
      "\n",
      "Epoch 00004: val_loss improved from 0.14494 to 0.14384, saving model to LSTM_Multivariate.h5\n",
      "Epoch 5/10\n",
      "1172/1172 [==============================] - 74s 63ms/step - loss: 0.1207 - val_loss: 0.1434\n",
      "\n",
      "Epoch 00005: val_loss improved from 0.14384 to 0.14343, saving model to LSTM_Multivariate.h5\n",
      "Epoch 6/10\n",
      "1172/1172 [==============================] - 75s 64ms/step - loss: 0.1195 - val_loss: 0.1412\n",
      "\n",
      "Epoch 00006: val_loss improved from 0.14343 to 0.14116, saving model to LSTM_Multivariate.h5\n",
      "Epoch 7/10\n",
      "1172/1172 [==============================] - 75s 64ms/step - loss: 0.1229 - val_loss: 0.1305\n",
      "\n",
      "Epoch 00007: val_loss improved from 0.14116 to 0.13052, saving model to LSTM_Multivariate.h5\n",
      "Epoch 8/10\n",
      "1172/1172 [==============================] - 75s 64ms/step - loss: 0.1161 - val_loss: 0.1328\n",
      "\n",
      "Epoch 00008: val_loss did not improve from 0.13052\n",
      "Epoch 9/10\n",
      "1172/1172 [==============================] - 78s 67ms/step - loss: 0.1152 - val_loss: 0.1298\n",
      "\n",
      "Epoch 00009: val_loss improved from 0.13052 to 0.12985, saving model to LSTM_Multivariate.h5\n",
      "Epoch 10/10\n",
      "1172/1172 [==============================] - 72s 62ms/step - loss: 0.1132 - val_loss: 0.1302\n",
      "\n",
      "Epoch 00010: val_loss did not improve from 0.12985\n"
     ]
    }
   ],
   "source": [
    "# path_checkpoint = \"LSTM_Multivariate.h5\"\n",
    "# es_callback = keras.callbacks.EarlyStopping(monitor=\"val_loss\", \n",
    "#                                             min_delta=0, \n",
    "#                                             patience=5)\n",
    "\n",
    "# modelckpt_callback = keras.callbacks.ModelCheckpoint(\n",
    "#                                                     monitor=\"val_loss\",\n",
    "#                                                     filepath=path_checkpoint,\n",
    "#                                                     verbose=1,\n",
    "#                                                     #save_weights_only=True,\n",
    "#                                                     save_best_only=True,\n",
    "#                                                 )\n",
    "\n",
    "# history = model.fit(\n",
    "#                     dataset_train,\n",
    "#                     epochs=epochs,\n",
    "#                     validation_data=dataset_val,\n",
    "#                     callbacks=[es_callback, modelckpt_callback],\n",
    "#                 )"
   ]
  },
  {
   "cell_type": "markdown",
   "metadata": {},
   "source": [
    "### Load the pre-trained model"
   ]
  },
  {
   "cell_type": "code",
   "execution_count": 29,
   "metadata": {},
   "outputs": [],
   "source": [
    "from tensorflow.keras.models import *"
   ]
  },
  {
   "cell_type": "code",
   "execution_count": 35,
   "metadata": {},
   "outputs": [],
   "source": [
    "path_1 = 'LSTM_Multivariate.h5'\n",
    "model_loaded = keras.models.load_model(path_1)"
   ]
  },
  {
   "cell_type": "code",
   "execution_count": null,
   "metadata": {},
   "outputs": [],
   "source": []
  },
  {
   "cell_type": "code",
   "execution_count": 36,
   "metadata": {},
   "outputs": [
    {
     "data": {
      "image/png": "[encoded data removed]",
      "text/plain": [
       "<Figure size 432x288 with 1 Axes>"
      ]
     },
     "metadata": {
      "image/png": {
       "height": 277,
       "width": 392
      },
      "needs_background": "light"
     },
     "output_type": "display_data"
    }
   ],
   "source": [
    "def visualize_loss(history, title):\n",
    "    loss = history.history[\"loss\"]\n",
    "    val_loss = history.history[\"val_loss\"]\n",
    "    epochs = range(len(loss))\n",
    "    plt.figure()\n",
    "    plt.plot(epochs, loss, \"b\", label=\"Training loss\")\n",
    "    plt.plot(epochs, val_loss, \"r\", label=\"Validation loss\")\n",
    "    plt.title(title)\n",
    "    plt.xlabel(\"Epochs\")\n",
    "    plt.ylabel(\"Loss\")\n",
    "    plt.legend()\n",
    "    plt.show()\n",
    "\n",
    "\n",
    "visualize_loss(history, \"Training and Validation Loss\")"
   ]
  },
  {
   "cell_type": "code",
   "execution_count": 82,
   "metadata": {},
   "outputs": [
    {
     "name": "stdout",
     "output_type": "stream",
     "text": [
      "(256, 120, 7)\n"
     ]
    }
   ],
   "source": [
    "for x, y in dataset_val.take(1):\n",
    "    print(x.shape)"
   ]
  },
  {
   "cell_type": "code",
   "execution_count": null,
   "metadata": {},
   "outputs": [],
   "source": []
  },
  {
   "cell_type": "code",
   "execution_count": null,
   "metadata": {},
   "outputs": [],
   "source": []
  },
  {
   "cell_type": "code",
   "execution_count": 84,
   "metadata": {},
   "outputs": [],
   "source": [
    "def show_plot(plot_data, delta, title):\n",
    "    \n",
    "    labels = [\"History\", \"True Future\", \"Model Prediction\"]\n",
    "    marker = [\".-\", \"rx\", \"go\"]\n",
    "    \n",
    "    time_steps = list(range(-(plot_data[0].shape[0]), 0))\n",
    "    if delta:\n",
    "        future = delta\n",
    "    else:\n",
    "        future = 0\n",
    "\n",
    "    plt.title(title)\n",
    "    for i, val in enumerate(plot_data):\n",
    "        if i:\n",
    "            plt.plot(future, plot_data[i], marker[i], markersize=10, label=labels[i])\n",
    "        else:\n",
    "            plt.plot(time_steps, plot_data[i].flatten(), marker[i], label=labels[i])\n",
    "            \n",
    "            \n",
    "    plt.legend()\n",
    "    plt.xlim([time_steps[0], (future + 5) * 2])\n",
    "    plt.xlabel(\"Time-Step\")\n",
    "    plt.show()\n",
    "    \n",
    "    return"
   ]
  },
  {
   "cell_type": "code",
   "execution_count": 86,
   "metadata": {},
   "outputs": [
    {
     "data": {
      "text/plain": [
       "463"
      ]
     },
     "execution_count": 86,
     "metadata": {},
     "output_type": "execute_result"
    }
   ],
   "source": [
    "len(dataset_val)"
   ]
  },
  {
   "cell_type": "code",
   "execution_count": 92,
   "metadata": {},
   "outputs": [],
   "source": [
    "real_values = []\n",
    "predited_values = []\n",
    "\n",
    "for x, y in dataset_val.take(463):\n",
    "    \n",
    "    real_values.append(y[0].numpy())\n",
    "    predited_values.append(model.predict(x)[0])\n",
    "    \n",
    "#     print(model.predict(x)[0])\n",
    "#     print(y[0].numpy())\n",
    "    \n",
    "#     show_plot([x[0][:, 1].numpy(), y[0].numpy(), model.predict(x)[0]],\n",
    "#               12,\n",
    "#               \"Single Step Prediction\",\n",
    "#               )"
   ]
  },
  {
   "cell_type": "code",
   "execution_count": 158,
   "metadata": {},
   "outputs": [
    {
     "data": {
      "text/plain": [
       "0.8385222784734652"
      ]
     },
     "execution_count": 158,
     "metadata": {},
     "output_type": "execute_result"
    }
   ],
   "source": [
    "from sklearn.metrics import r2_score\n",
    "\n",
    "coefficient_of_dermination = r2_score(real_values, predited_values)\n",
    "coefficient_of_dermination"
   ]
  },
  {
   "cell_type": "code",
   "execution_count": 160,
   "metadata": {},
   "outputs": [],
   "source": [
    "rs2 = round(coefficient_of_dermination,2)"
   ]
  },
  {
   "cell_type": "code",
   "execution_count": 164,
   "metadata": {},
   "outputs": [
    {
     "data": {
      "image/png": "[encoded data removed]",
      "text/plain": [
       "<Figure size 720x720 with 1 Axes>"
      ]
     },
     "metadata": {
      "image/png": {
       "height": 711,
       "width": 712
      },
      "needs_background": "light"
     },
     "output_type": "display_data"
    }
   ],
   "source": [
    "plt.figure(figsize=(10,10))\n",
    "\n",
    "plt.scatter(real_values, predited_values, color='r', \n",
    "            alpha=0.4, label=f'Validation Data with R2 = {rs2}',s=100)\n",
    "plt.xlabel(\"Normalized Real Temperature\", fontsize=14)\n",
    "plt.ylabel(\"Normalized Predited Temperature\", fontsize=14)\n",
    "plt.xticks(fontsize=12), plt.yticks(fontsize=12)\n",
    "plt.axline([0, 0], [1, 1], color ='k')\n",
    "plt.hlines(0, -4, 4, linestyles=\"--\", color ='k')\n",
    "plt.vlines(0, -4, 4, linestyles=\"--\", color ='k')\n",
    "\n",
    "plt.xlim(-3,3), plt.ylim(-3,3)\n",
    "\n",
    "plt.title(\"LSTM model Temperature forcast results for 12 \\\n",
    "hours ahead\\nData from 120 hours lags is used for prediction\", fontsize=14)\n",
    "\n",
    "plt.tight_layout()\n",
    "plt.legend(fontsize=14)\n",
    "\n",
    "plt.savefig(\"../Figures/\" + section_fig_main_title + \"LSTM12HoursAhead.png\")"
   ]
  },
  {
   "cell_type": "code",
   "execution_count": 107,
   "metadata": {},
   "outputs": [
    {
     "data": {
      "text/plain": [
       "0.8385222784734652"
      ]
     },
     "execution_count": 107,
     "metadata": {},
     "output_type": "execute_result"
    }
   ],
   "source": []
  },
  {
   "cell_type": "code",
   "execution_count": null,
   "metadata": {},
   "outputs": [],
   "source": []
  }
 ],
 "metadata": {
  "kernelspec": {
   "display_name": "env",
   "language": "python",
   "name": "env"
  },
  "language_info": {
   "codemirror_mode": {
    "name": "ipython",
    "version": 3
   },
   "file_extension": ".py",
   "mimetype": "text/x-python",
   "name": "python",
   "nbconvert_exporter": "python",
   "pygments_lexer": "ipython3",
   "version": "3.7.1"
  }
 },
 "nbformat": 4,
 "nbformat_minor": 2
}
