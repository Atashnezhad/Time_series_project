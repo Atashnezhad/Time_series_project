{
 "cells": [
  {
   "cell_type": "markdown",
   "metadata": {},
   "source": [
    "# Part 01\n",
    "\n",
    "The data is leaded from url and is explored to select the appropriate variables."
   ]
  },
  {
   "cell_type": "code",
   "execution_count": 1,
   "metadata": {},
   "outputs": [
    {
     "data": {
      "text/plain": [
       "'2.6.0'"
      ]
     },
     "execution_count": 1,
     "metadata": {},
     "output_type": "execute_result"
    }
   ],
   "source": [
    "import tensorflow as tf\n",
    "tf.__version__"
   ]
  },
  {
   "cell_type": "code",
   "execution_count": 2,
   "metadata": {},
   "outputs": [
    {
     "name": "stdout",
     "output_type": "stream",
     "text": [
      "/Users/amin/Desktop/proj/env/bin/python\n"
     ]
    }
   ],
   "source": [
    "import sys\n",
    "print(sys.executable)"
   ]
  },
  {
   "cell_type": "code",
   "execution_count": 3,
   "metadata": {},
   "outputs": [],
   "source": [
    "# !/Users/amin/Desktop/proj/env/bin/python -m pip install matplotlib"
   ]
  },
  {
   "cell_type": "code",
   "execution_count": 4,
   "metadata": {},
   "outputs": [],
   "source": [
    "import pandas as pd\n",
    "import matplotlib.pyplot as plt\n",
    "import tensorflow as tf\n",
    "from tensorflow import keras"
   ]
  },
  {
   "cell_type": "code",
   "execution_count": 5,
   "metadata": {},
   "outputs": [],
   "source": [
    "import pandas as pd\n",
    "import numpy as np\n",
    "import seaborn as sns"
   ]
  },
  {
   "cell_type": "code",
   "execution_count": 17,
   "metadata": {},
   "outputs": [],
   "source": [
    "from zipfile import ZipFile\n",
    "import os\n",
    "\n",
    "uri = \"https://storage.googleapis.com/tensorflow/tf-keras-datasets/jena_climate_2009_2016.csv.zip\"\n",
    "zip_path = keras.utils.get_file(origin=uri, \n",
    "                                fname=\"jena_climate_2009_2016.csv.zip\")\n",
    "zip_file = ZipFile(zip_path)\n",
    "zip_file.extractall()"
   ]
  },
  {
   "cell_type": "markdown",
   "metadata": {},
   "source": [
    "save the data frame into the Data folder"
   ]
  },
  {
   "cell_type": "code",
   "execution_count": 34,
   "metadata": {},
   "outputs": [
    {
     "data": {
      "text/plain": [
       "'../Data/jena_climate_2009_2016.csv'"
      ]
     },
     "execution_count": 34,
     "metadata": {},
     "output_type": "execute_result"
    }
   ],
   "source": [
    "import shutil\n",
    "\n",
    "# determine the src address and dist address\n",
    "src_dir = \"../Code/jena_climate_2009_2016.csv\"\n",
    "dst_dir = \"../Data/jena_climate_2009_2016.csv\"\n",
    "\n",
    "# copy img from src to dist\n",
    "shutil.copy(src_dir, dst_dir)"
   ]
  },
  {
   "cell_type": "code",
   "execution_count": 22,
   "metadata": {},
   "outputs": [
    {
     "name": "stdout",
     "output_type": "stream",
     "text": [
      "mv: jena_climate_2009_2016.csv.zip: No such file or directory\r\n"
     ]
    }
   ],
   "source": [
    "# !mv jena_climate_2009_2016.csv.zip ~/Data/jena_climate_2009_2016.csv.zip"
   ]
  },
  {
   "cell_type": "code",
   "execution_count": 35,
   "metadata": {},
   "outputs": [],
   "source": [
    "csv_path = \"../Data/jena_climate_2009_2016.csv\"\n",
    "df = pd.read_csv(csv_path)"
   ]
  },
  {
   "cell_type": "code",
   "execution_count": 214,
   "metadata": {},
   "outputs": [
    {
     "data": {
      "text/html": [
       "<div>\n",
       "<style scoped>\n",
       "    .dataframe tbody tr th:only-of-type {\n",
       "        vertical-align: middle;\n",
       "    }\n",
       "\n",
       "    .dataframe tbody tr th {\n",
       "        vertical-align: top;\n",
       "    }\n",
       "\n",
       "    .dataframe thead th {\n",
       "        text-align: right;\n",
       "    }\n",
       "</style>\n",
       "<table border=\"1\" class=\"dataframe\">\n",
       "  <thead>\n",
       "    <tr style=\"text-align: right;\">\n",
       "      <th></th>\n",
       "      <th>Date Time</th>\n",
       "      <th>p (mbar)</th>\n",
       "      <th>T (degC)</th>\n",
       "      <th>Tpot (K)</th>\n",
       "      <th>Tdew (degC)</th>\n",
       "      <th>rh (%)</th>\n",
       "      <th>VPmax (mbar)</th>\n",
       "      <th>VPact (mbar)</th>\n",
       "      <th>VPdef (mbar)</th>\n",
       "      <th>sh (g/kg)</th>\n",
       "      <th>H2OC (mmol/mol)</th>\n",
       "      <th>rho (g/m**3)</th>\n",
       "      <th>wv (m/s)</th>\n",
       "      <th>max. wv (m/s)</th>\n",
       "      <th>wd (deg)</th>\n",
       "    </tr>\n",
       "  </thead>\n",
       "  <tbody>\n",
       "    <tr>\n",
       "      <th>0</th>\n",
       "      <td>01.01.2009 00:10:00</td>\n",
       "      <td>996.52</td>\n",
       "      <td>-8.02</td>\n",
       "      <td>265.40</td>\n",
       "      <td>-8.90</td>\n",
       "      <td>93.3</td>\n",
       "      <td>3.33</td>\n",
       "      <td>3.11</td>\n",
       "      <td>0.22</td>\n",
       "      <td>1.94</td>\n",
       "      <td>3.12</td>\n",
       "      <td>1307.75</td>\n",
       "      <td>1.03</td>\n",
       "      <td>1.75</td>\n",
       "      <td>152.3</td>\n",
       "    </tr>\n",
       "    <tr>\n",
       "      <th>1</th>\n",
       "      <td>01.01.2009 00:20:00</td>\n",
       "      <td>996.57</td>\n",
       "      <td>-8.41</td>\n",
       "      <td>265.01</td>\n",
       "      <td>-9.28</td>\n",
       "      <td>93.4</td>\n",
       "      <td>3.23</td>\n",
       "      <td>3.02</td>\n",
       "      <td>0.21</td>\n",
       "      <td>1.89</td>\n",
       "      <td>3.03</td>\n",
       "      <td>1309.80</td>\n",
       "      <td>0.72</td>\n",
       "      <td>1.50</td>\n",
       "      <td>136.1</td>\n",
       "    </tr>\n",
       "    <tr>\n",
       "      <th>2</th>\n",
       "      <td>01.01.2009 00:30:00</td>\n",
       "      <td>996.53</td>\n",
       "      <td>-8.51</td>\n",
       "      <td>264.91</td>\n",
       "      <td>-9.31</td>\n",
       "      <td>93.9</td>\n",
       "      <td>3.21</td>\n",
       "      <td>3.01</td>\n",
       "      <td>0.20</td>\n",
       "      <td>1.88</td>\n",
       "      <td>3.02</td>\n",
       "      <td>1310.24</td>\n",
       "      <td>0.19</td>\n",
       "      <td>0.63</td>\n",
       "      <td>171.6</td>\n",
       "    </tr>\n",
       "    <tr>\n",
       "      <th>3</th>\n",
       "      <td>01.01.2009 00:40:00</td>\n",
       "      <td>996.51</td>\n",
       "      <td>-8.31</td>\n",
       "      <td>265.12</td>\n",
       "      <td>-9.07</td>\n",
       "      <td>94.2</td>\n",
       "      <td>3.26</td>\n",
       "      <td>3.07</td>\n",
       "      <td>0.19</td>\n",
       "      <td>1.92</td>\n",
       "      <td>3.08</td>\n",
       "      <td>1309.19</td>\n",
       "      <td>0.34</td>\n",
       "      <td>0.50</td>\n",
       "      <td>198.0</td>\n",
       "    </tr>\n",
       "    <tr>\n",
       "      <th>4</th>\n",
       "      <td>01.01.2009 00:50:00</td>\n",
       "      <td>996.51</td>\n",
       "      <td>-8.27</td>\n",
       "      <td>265.15</td>\n",
       "      <td>-9.04</td>\n",
       "      <td>94.1</td>\n",
       "      <td>3.27</td>\n",
       "      <td>3.08</td>\n",
       "      <td>0.19</td>\n",
       "      <td>1.92</td>\n",
       "      <td>3.09</td>\n",
       "      <td>1309.00</td>\n",
       "      <td>0.32</td>\n",
       "      <td>0.63</td>\n",
       "      <td>214.3</td>\n",
       "    </tr>\n",
       "  </tbody>\n",
       "</table>\n",
       "</div>"
      ],
      "text/plain": [
       "             Date Time  p (mbar)  T (degC)  Tpot (K)  Tdew (degC)  rh (%)  \\\n",
       "0  01.01.2009 00:10:00    996.52     -8.02    265.40        -8.90    93.3   \n",
       "1  01.01.2009 00:20:00    996.57     -8.41    265.01        -9.28    93.4   \n",
       "2  01.01.2009 00:30:00    996.53     -8.51    264.91        -9.31    93.9   \n",
       "3  01.01.2009 00:40:00    996.51     -8.31    265.12        -9.07    94.2   \n",
       "4  01.01.2009 00:50:00    996.51     -8.27    265.15        -9.04    94.1   \n",
       "\n",
       "   VPmax (mbar)  VPact (mbar)  VPdef (mbar)  sh (g/kg)  H2OC (mmol/mol)  \\\n",
       "0          3.33          3.11          0.22       1.94             3.12   \n",
       "1          3.23          3.02          0.21       1.89             3.03   \n",
       "2          3.21          3.01          0.20       1.88             3.02   \n",
       "3          3.26          3.07          0.19       1.92             3.08   \n",
       "4          3.27          3.08          0.19       1.92             3.09   \n",
       "\n",
       "   rho (g/m**3)  wv (m/s)  max. wv (m/s)  wd (deg)  \n",
       "0       1307.75      1.03           1.75     152.3  \n",
       "1       1309.80      0.72           1.50     136.1  \n",
       "2       1310.24      0.19           0.63     171.6  \n",
       "3       1309.19      0.34           0.50     198.0  \n",
       "4       1309.00      0.32           0.63     214.3  "
      ]
     },
     "execution_count": 214,
     "metadata": {},
     "output_type": "execute_result"
    }
   ],
   "source": [
    "df.head()"
   ]
  },
  {
   "cell_type": "code",
   "execution_count": 215,
   "metadata": {},
   "outputs": [
    {
     "data": {
      "text/plain": [
       "Index(['Date Time', 'p (mbar)', 'T (degC)', 'Tpot (K)', 'Tdew (degC)',\n",
       "       'rh (%)', 'VPmax (mbar)', 'VPact (mbar)', 'VPdef (mbar)', 'sh (g/kg)',\n",
       "       'H2OC (mmol/mol)', 'rho (g/m**3)', 'wv (m/s)', 'max. wv (m/s)',\n",
       "       'wd (deg)'],\n",
       "      dtype='object')"
      ]
     },
     "execution_count": 215,
     "metadata": {},
     "output_type": "execute_result"
    }
   ],
   "source": [
    "df.columns"
   ]
  },
  {
   "cell_type": "code",
   "execution_count": 216,
   "metadata": {},
   "outputs": [
    {
     "data": {
      "text/plain": [
       "15"
      ]
     },
     "execution_count": 216,
     "metadata": {},
     "output_type": "execute_result"
    }
   ],
   "source": [
    "df.columns.size"
   ]
  },
  {
   "cell_type": "code",
   "execution_count": 217,
   "metadata": {},
   "outputs": [
    {
     "data": {
      "text/html": [
       "<div>\n",
       "<style scoped>\n",
       "    .dataframe tbody tr th:only-of-type {\n",
       "        vertical-align: middle;\n",
       "    }\n",
       "\n",
       "    .dataframe tbody tr th {\n",
       "        vertical-align: top;\n",
       "    }\n",
       "\n",
       "    .dataframe thead th {\n",
       "        text-align: right;\n",
       "    }\n",
       "</style>\n",
       "<table border=\"1\" class=\"dataframe\">\n",
       "  <thead>\n",
       "    <tr style=\"text-align: right;\">\n",
       "      <th></th>\n",
       "      <th>count</th>\n",
       "      <th>mean</th>\n",
       "      <th>std</th>\n",
       "      <th>min</th>\n",
       "      <th>25%</th>\n",
       "      <th>50%</th>\n",
       "      <th>75%</th>\n",
       "      <th>max</th>\n",
       "    </tr>\n",
       "  </thead>\n",
       "  <tbody>\n",
       "    <tr>\n",
       "      <th>p (mbar)</th>\n",
       "      <td>420551.0</td>\n",
       "      <td>989.212776</td>\n",
       "      <td>8.358481</td>\n",
       "      <td>913.60</td>\n",
       "      <td>984.20</td>\n",
       "      <td>989.58</td>\n",
       "      <td>994.72</td>\n",
       "      <td>1015.35</td>\n",
       "    </tr>\n",
       "    <tr>\n",
       "      <th>T (degC)</th>\n",
       "      <td>420551.0</td>\n",
       "      <td>9.450147</td>\n",
       "      <td>8.423365</td>\n",
       "      <td>-23.01</td>\n",
       "      <td>3.36</td>\n",
       "      <td>9.42</td>\n",
       "      <td>15.47</td>\n",
       "      <td>37.28</td>\n",
       "    </tr>\n",
       "    <tr>\n",
       "      <th>Tpot (K)</th>\n",
       "      <td>420551.0</td>\n",
       "      <td>283.492743</td>\n",
       "      <td>8.504471</td>\n",
       "      <td>250.60</td>\n",
       "      <td>277.43</td>\n",
       "      <td>283.47</td>\n",
       "      <td>289.53</td>\n",
       "      <td>311.34</td>\n",
       "    </tr>\n",
       "    <tr>\n",
       "      <th>Tdew (degC)</th>\n",
       "      <td>420551.0</td>\n",
       "      <td>4.955854</td>\n",
       "      <td>6.730674</td>\n",
       "      <td>-25.01</td>\n",
       "      <td>0.24</td>\n",
       "      <td>5.22</td>\n",
       "      <td>10.07</td>\n",
       "      <td>23.11</td>\n",
       "    </tr>\n",
       "    <tr>\n",
       "      <th>rh (%)</th>\n",
       "      <td>420551.0</td>\n",
       "      <td>76.008259</td>\n",
       "      <td>16.476175</td>\n",
       "      <td>12.95</td>\n",
       "      <td>65.21</td>\n",
       "      <td>79.30</td>\n",
       "      <td>89.40</td>\n",
       "      <td>100.00</td>\n",
       "    </tr>\n",
       "    <tr>\n",
       "      <th>VPmax (mbar)</th>\n",
       "      <td>420551.0</td>\n",
       "      <td>13.576251</td>\n",
       "      <td>7.739020</td>\n",
       "      <td>0.95</td>\n",
       "      <td>7.78</td>\n",
       "      <td>11.82</td>\n",
       "      <td>17.60</td>\n",
       "      <td>63.77</td>\n",
       "    </tr>\n",
       "    <tr>\n",
       "      <th>VPact (mbar)</th>\n",
       "      <td>420551.0</td>\n",
       "      <td>9.533756</td>\n",
       "      <td>4.184164</td>\n",
       "      <td>0.79</td>\n",
       "      <td>6.21</td>\n",
       "      <td>8.86</td>\n",
       "      <td>12.35</td>\n",
       "      <td>28.32</td>\n",
       "    </tr>\n",
       "    <tr>\n",
       "      <th>VPdef (mbar)</th>\n",
       "      <td>420551.0</td>\n",
       "      <td>4.042412</td>\n",
       "      <td>4.896851</td>\n",
       "      <td>0.00</td>\n",
       "      <td>0.87</td>\n",
       "      <td>2.19</td>\n",
       "      <td>5.30</td>\n",
       "      <td>46.01</td>\n",
       "    </tr>\n",
       "    <tr>\n",
       "      <th>sh (g/kg)</th>\n",
       "      <td>420551.0</td>\n",
       "      <td>6.022408</td>\n",
       "      <td>2.656139</td>\n",
       "      <td>0.50</td>\n",
       "      <td>3.92</td>\n",
       "      <td>5.59</td>\n",
       "      <td>7.80</td>\n",
       "      <td>18.13</td>\n",
       "    </tr>\n",
       "    <tr>\n",
       "      <th>H2OC (mmol/mol)</th>\n",
       "      <td>420551.0</td>\n",
       "      <td>9.640223</td>\n",
       "      <td>4.235395</td>\n",
       "      <td>0.80</td>\n",
       "      <td>6.29</td>\n",
       "      <td>8.96</td>\n",
       "      <td>12.49</td>\n",
       "      <td>28.82</td>\n",
       "    </tr>\n",
       "    <tr>\n",
       "      <th>rho (g/m**3)</th>\n",
       "      <td>420551.0</td>\n",
       "      <td>1216.062748</td>\n",
       "      <td>39.975208</td>\n",
       "      <td>1059.45</td>\n",
       "      <td>1187.49</td>\n",
       "      <td>1213.79</td>\n",
       "      <td>1242.77</td>\n",
       "      <td>1393.54</td>\n",
       "    </tr>\n",
       "    <tr>\n",
       "      <th>wv (m/s)</th>\n",
       "      <td>420551.0</td>\n",
       "      <td>1.702224</td>\n",
       "      <td>65.446714</td>\n",
       "      <td>-9999.00</td>\n",
       "      <td>0.99</td>\n",
       "      <td>1.76</td>\n",
       "      <td>2.86</td>\n",
       "      <td>28.49</td>\n",
       "    </tr>\n",
       "    <tr>\n",
       "      <th>max. wv (m/s)</th>\n",
       "      <td>420551.0</td>\n",
       "      <td>3.056555</td>\n",
       "      <td>69.016932</td>\n",
       "      <td>-9999.00</td>\n",
       "      <td>1.76</td>\n",
       "      <td>2.96</td>\n",
       "      <td>4.74</td>\n",
       "      <td>23.50</td>\n",
       "    </tr>\n",
       "    <tr>\n",
       "      <th>wd (deg)</th>\n",
       "      <td>420551.0</td>\n",
       "      <td>174.743738</td>\n",
       "      <td>86.681693</td>\n",
       "      <td>0.00</td>\n",
       "      <td>124.90</td>\n",
       "      <td>198.10</td>\n",
       "      <td>234.10</td>\n",
       "      <td>360.00</td>\n",
       "    </tr>\n",
       "  </tbody>\n",
       "</table>\n",
       "</div>"
      ],
      "text/plain": [
       "                    count         mean        std      min      25%      50%  \\\n",
       "p (mbar)         420551.0   989.212776   8.358481   913.60   984.20   989.58   \n",
       "T (degC)         420551.0     9.450147   8.423365   -23.01     3.36     9.42   \n",
       "Tpot (K)         420551.0   283.492743   8.504471   250.60   277.43   283.47   \n",
       "Tdew (degC)      420551.0     4.955854   6.730674   -25.01     0.24     5.22   \n",
       "rh (%)           420551.0    76.008259  16.476175    12.95    65.21    79.30   \n",
       "VPmax (mbar)     420551.0    13.576251   7.739020     0.95     7.78    11.82   \n",
       "VPact (mbar)     420551.0     9.533756   4.184164     0.79     6.21     8.86   \n",
       "VPdef (mbar)     420551.0     4.042412   4.896851     0.00     0.87     2.19   \n",
       "sh (g/kg)        420551.0     6.022408   2.656139     0.50     3.92     5.59   \n",
       "H2OC (mmol/mol)  420551.0     9.640223   4.235395     0.80     6.29     8.96   \n",
       "rho (g/m**3)     420551.0  1216.062748  39.975208  1059.45  1187.49  1213.79   \n",
       "wv (m/s)         420551.0     1.702224  65.446714 -9999.00     0.99     1.76   \n",
       "max. wv (m/s)    420551.0     3.056555  69.016932 -9999.00     1.76     2.96   \n",
       "wd (deg)         420551.0   174.743738  86.681693     0.00   124.90   198.10   \n",
       "\n",
       "                     75%      max  \n",
       "p (mbar)          994.72  1015.35  \n",
       "T (degC)           15.47    37.28  \n",
       "Tpot (K)          289.53   311.34  \n",
       "Tdew (degC)        10.07    23.11  \n",
       "rh (%)             89.40   100.00  \n",
       "VPmax (mbar)       17.60    63.77  \n",
       "VPact (mbar)       12.35    28.32  \n",
       "VPdef (mbar)        5.30    46.01  \n",
       "sh (g/kg)           7.80    18.13  \n",
       "H2OC (mmol/mol)    12.49    28.82  \n",
       "rho (g/m**3)     1242.77  1393.54  \n",
       "wv (m/s)            2.86    28.49  \n",
       "max. wv (m/s)       4.74    23.50  \n",
       "wd (deg)          234.10   360.00  "
      ]
     },
     "execution_count": 217,
     "metadata": {},
     "output_type": "execute_result"
    }
   ],
   "source": [
    "df.describe().T"
   ]
  },
  {
   "cell_type": "code",
   "execution_count": 218,
   "metadata": {},
   "outputs": [
    {
     "data": {
      "text/html": [
       "<div>\n",
       "<style scoped>\n",
       "    .dataframe tbody tr th:only-of-type {\n",
       "        vertical-align: middle;\n",
       "    }\n",
       "\n",
       "    .dataframe tbody tr th {\n",
       "        vertical-align: top;\n",
       "    }\n",
       "\n",
       "    .dataframe thead th {\n",
       "        text-align: right;\n",
       "    }\n",
       "</style>\n",
       "<table border=\"1\" class=\"dataframe\">\n",
       "  <thead>\n",
       "    <tr style=\"text-align: right;\">\n",
       "      <th></th>\n",
       "      <th>p (mbar)</th>\n",
       "      <th>T (degC)</th>\n",
       "      <th>Tpot (K)</th>\n",
       "      <th>Tdew (degC)</th>\n",
       "      <th>rh (%)</th>\n",
       "      <th>VPmax (mbar)</th>\n",
       "      <th>VPact (mbar)</th>\n",
       "      <th>VPdef (mbar)</th>\n",
       "      <th>sh (g/kg)</th>\n",
       "      <th>H2OC (mmol/mol)</th>\n",
       "      <th>rho (g/m**3)</th>\n",
       "      <th>wv (m/s)</th>\n",
       "      <th>max. wv (m/s)</th>\n",
       "      <th>wd (deg)</th>\n",
       "    </tr>\n",
       "  </thead>\n",
       "  <tbody>\n",
       "    <tr>\n",
       "      <th>p (mbar)</th>\n",
       "      <td>1.000000</td>\n",
       "      <td>-0.045375</td>\n",
       "      <td>-0.124718</td>\n",
       "      <td>-0.066755</td>\n",
       "      <td>-0.018352</td>\n",
       "      <td>-0.031546</td>\n",
       "      <td>-0.054370</td>\n",
       "      <td>-0.003401</td>\n",
       "      <td>-0.069762</td>\n",
       "      <td>-0.069804</td>\n",
       "      <td>0.307640</td>\n",
       "      <td>-0.005701</td>\n",
       "      <td>-0.007760</td>\n",
       "      <td>-0.063258</td>\n",
       "    </tr>\n",
       "    <tr>\n",
       "      <th>T (degC)</th>\n",
       "      <td>-0.045375</td>\n",
       "      <td>1.000000</td>\n",
       "      <td>0.996827</td>\n",
       "      <td>0.895708</td>\n",
       "      <td>-0.572416</td>\n",
       "      <td>0.951113</td>\n",
       "      <td>0.867673</td>\n",
       "      <td>0.761744</td>\n",
       "      <td>0.866755</td>\n",
       "      <td>0.867177</td>\n",
       "      <td>-0.963410</td>\n",
       "      <td>-0.004689</td>\n",
       "      <td>-0.002871</td>\n",
       "      <td>0.038732</td>\n",
       "    </tr>\n",
       "    <tr>\n",
       "      <th>Tpot (K)</th>\n",
       "      <td>-0.124718</td>\n",
       "      <td>0.996827</td>\n",
       "      <td>1.000000</td>\n",
       "      <td>0.894911</td>\n",
       "      <td>-0.567127</td>\n",
       "      <td>0.947293</td>\n",
       "      <td>0.866205</td>\n",
       "      <td>0.756962</td>\n",
       "      <td>0.866533</td>\n",
       "      <td>0.866955</td>\n",
       "      <td>-0.981345</td>\n",
       "      <td>-0.004195</td>\n",
       "      <td>-0.002224</td>\n",
       "      <td>0.043599</td>\n",
       "    </tr>\n",
       "    <tr>\n",
       "      <th>Tdew (degC)</th>\n",
       "      <td>-0.066755</td>\n",
       "      <td>0.895708</td>\n",
       "      <td>0.894911</td>\n",
       "      <td>1.000000</td>\n",
       "      <td>-0.156615</td>\n",
       "      <td>0.799271</td>\n",
       "      <td>0.968344</td>\n",
       "      <td>0.435752</td>\n",
       "      <td>0.967599</td>\n",
       "      <td>0.968044</td>\n",
       "      <td>-0.885232</td>\n",
       "      <td>-0.008718</td>\n",
       "      <td>-0.009091</td>\n",
       "      <td>0.049877</td>\n",
       "    </tr>\n",
       "    <tr>\n",
       "      <th>rh (%)</th>\n",
       "      <td>-0.018352</td>\n",
       "      <td>-0.572416</td>\n",
       "      <td>-0.567127</td>\n",
       "      <td>-0.156615</td>\n",
       "      <td>1.000000</td>\n",
       "      <td>-0.615842</td>\n",
       "      <td>-0.151494</td>\n",
       "      <td>-0.843835</td>\n",
       "      <td>-0.150841</td>\n",
       "      <td>-0.150969</td>\n",
       "      <td>0.514282</td>\n",
       "      <td>-0.005020</td>\n",
       "      <td>-0.009921</td>\n",
       "      <td>-0.015912</td>\n",
       "    </tr>\n",
       "    <tr>\n",
       "      <th>VPmax (mbar)</th>\n",
       "      <td>-0.031546</td>\n",
       "      <td>0.951113</td>\n",
       "      <td>0.947293</td>\n",
       "      <td>0.799271</td>\n",
       "      <td>-0.615842</td>\n",
       "      <td>1.000000</td>\n",
       "      <td>0.824865</td>\n",
       "      <td>0.875588</td>\n",
       "      <td>0.824460</td>\n",
       "      <td>0.824493</td>\n",
       "      <td>-0.901536</td>\n",
       "      <td>-0.004018</td>\n",
       "      <td>-0.002213</td>\n",
       "      <td>-0.009583</td>\n",
       "    </tr>\n",
       "    <tr>\n",
       "      <th>VPact (mbar)</th>\n",
       "      <td>-0.054370</td>\n",
       "      <td>0.867673</td>\n",
       "      <td>0.866205</td>\n",
       "      <td>0.968344</td>\n",
       "      <td>-0.151494</td>\n",
       "      <td>0.824865</td>\n",
       "      <td>1.000000</td>\n",
       "      <td>0.449154</td>\n",
       "      <td>0.999851</td>\n",
       "      <td>0.999856</td>\n",
       "      <td>-0.850241</td>\n",
       "      <td>-0.009600</td>\n",
       "      <td>-0.010316</td>\n",
       "      <td>0.018418</td>\n",
       "    </tr>\n",
       "    <tr>\n",
       "      <th>VPdef (mbar)</th>\n",
       "      <td>-0.003401</td>\n",
       "      <td>0.761744</td>\n",
       "      <td>0.756962</td>\n",
       "      <td>0.435752</td>\n",
       "      <td>-0.843835</td>\n",
       "      <td>0.875588</td>\n",
       "      <td>0.449154</td>\n",
       "      <td>1.000000</td>\n",
       "      <td>0.448641</td>\n",
       "      <td>0.448689</td>\n",
       "      <td>-0.698290</td>\n",
       "      <td>0.001852</td>\n",
       "      <td>0.005317</td>\n",
       "      <td>-0.030881</td>\n",
       "    </tr>\n",
       "    <tr>\n",
       "      <th>sh (g/kg)</th>\n",
       "      <td>-0.069762</td>\n",
       "      <td>0.866755</td>\n",
       "      <td>0.866533</td>\n",
       "      <td>0.967599</td>\n",
       "      <td>-0.150841</td>\n",
       "      <td>0.824460</td>\n",
       "      <td>0.999851</td>\n",
       "      <td>0.448641</td>\n",
       "      <td>1.000000</td>\n",
       "      <td>0.999997</td>\n",
       "      <td>-0.853325</td>\n",
       "      <td>-0.009479</td>\n",
       "      <td>-0.010163</td>\n",
       "      <td>0.019376</td>\n",
       "    </tr>\n",
       "    <tr>\n",
       "      <th>H2OC (mmol/mol)</th>\n",
       "      <td>-0.069804</td>\n",
       "      <td>0.867177</td>\n",
       "      <td>0.866955</td>\n",
       "      <td>0.968044</td>\n",
       "      <td>-0.150969</td>\n",
       "      <td>0.824493</td>\n",
       "      <td>0.999856</td>\n",
       "      <td>0.448689</td>\n",
       "      <td>0.999997</td>\n",
       "      <td>1.000000</td>\n",
       "      <td>-0.853769</td>\n",
       "      <td>-0.009477</td>\n",
       "      <td>-0.010158</td>\n",
       "      <td>0.019607</td>\n",
       "    </tr>\n",
       "    <tr>\n",
       "      <th>rho (g/m**3)</th>\n",
       "      <td>0.307640</td>\n",
       "      <td>-0.963410</td>\n",
       "      <td>-0.981345</td>\n",
       "      <td>-0.885232</td>\n",
       "      <td>0.514282</td>\n",
       "      <td>-0.901536</td>\n",
       "      <td>-0.850241</td>\n",
       "      <td>-0.698290</td>\n",
       "      <td>-0.853325</td>\n",
       "      <td>-0.853769</td>\n",
       "      <td>1.000000</td>\n",
       "      <td>0.003240</td>\n",
       "      <td>0.001086</td>\n",
       "      <td>-0.058072</td>\n",
       "    </tr>\n",
       "    <tr>\n",
       "      <th>wv (m/s)</th>\n",
       "      <td>-0.005701</td>\n",
       "      <td>-0.004689</td>\n",
       "      <td>-0.004195</td>\n",
       "      <td>-0.008718</td>\n",
       "      <td>-0.005020</td>\n",
       "      <td>-0.004018</td>\n",
       "      <td>-0.009600</td>\n",
       "      <td>0.001852</td>\n",
       "      <td>-0.009479</td>\n",
       "      <td>-0.009477</td>\n",
       "      <td>0.003240</td>\n",
       "      <td>1.000000</td>\n",
       "      <td>0.948477</td>\n",
       "      <td>-0.015322</td>\n",
       "    </tr>\n",
       "    <tr>\n",
       "      <th>max. wv (m/s)</th>\n",
       "      <td>-0.007760</td>\n",
       "      <td>-0.002871</td>\n",
       "      <td>-0.002224</td>\n",
       "      <td>-0.009091</td>\n",
       "      <td>-0.009921</td>\n",
       "      <td>-0.002213</td>\n",
       "      <td>-0.010316</td>\n",
       "      <td>0.005317</td>\n",
       "      <td>-0.010163</td>\n",
       "      <td>-0.010158</td>\n",
       "      <td>0.001086</td>\n",
       "      <td>0.948477</td>\n",
       "      <td>1.000000</td>\n",
       "      <td>-0.014471</td>\n",
       "    </tr>\n",
       "    <tr>\n",
       "      <th>wd (deg)</th>\n",
       "      <td>-0.063258</td>\n",
       "      <td>0.038732</td>\n",
       "      <td>0.043599</td>\n",
       "      <td>0.049877</td>\n",
       "      <td>-0.015912</td>\n",
       "      <td>-0.009583</td>\n",
       "      <td>0.018418</td>\n",
       "      <td>-0.030881</td>\n",
       "      <td>0.019376</td>\n",
       "      <td>0.019607</td>\n",
       "      <td>-0.058072</td>\n",
       "      <td>-0.015322</td>\n",
       "      <td>-0.014471</td>\n",
       "      <td>1.000000</td>\n",
       "    </tr>\n",
       "  </tbody>\n",
       "</table>\n",
       "</div>"
      ],
      "text/plain": [
       "                 p (mbar)  T (degC)  Tpot (K)  Tdew (degC)    rh (%)  \\\n",
       "p (mbar)         1.000000 -0.045375 -0.124718    -0.066755 -0.018352   \n",
       "T (degC)        -0.045375  1.000000  0.996827     0.895708 -0.572416   \n",
       "Tpot (K)        -0.124718  0.996827  1.000000     0.894911 -0.567127   \n",
       "Tdew (degC)     -0.066755  0.895708  0.894911     1.000000 -0.156615   \n",
       "rh (%)          -0.018352 -0.572416 -0.567127    -0.156615  1.000000   \n",
       "VPmax (mbar)    -0.031546  0.951113  0.947293     0.799271 -0.615842   \n",
       "VPact (mbar)    -0.054370  0.867673  0.866205     0.968344 -0.151494   \n",
       "VPdef (mbar)    -0.003401  0.761744  0.756962     0.435752 -0.843835   \n",
       "sh (g/kg)       -0.069762  0.866755  0.866533     0.967599 -0.150841   \n",
       "H2OC (mmol/mol) -0.069804  0.867177  0.866955     0.968044 -0.150969   \n",
       "rho (g/m**3)     0.307640 -0.963410 -0.981345    -0.885232  0.514282   \n",
       "wv (m/s)        -0.005701 -0.004689 -0.004195    -0.008718 -0.005020   \n",
       "max. wv (m/s)   -0.007760 -0.002871 -0.002224    -0.009091 -0.009921   \n",
       "wd (deg)        -0.063258  0.038732  0.043599     0.049877 -0.015912   \n",
       "\n",
       "                 VPmax (mbar)  VPact (mbar)  VPdef (mbar)  sh (g/kg)  \\\n",
       "p (mbar)            -0.031546     -0.054370     -0.003401  -0.069762   \n",
       "T (degC)             0.951113      0.867673      0.761744   0.866755   \n",
       "Tpot (K)             0.947293      0.866205      0.756962   0.866533   \n",
       "Tdew (degC)          0.799271      0.968344      0.435752   0.967599   \n",
       "rh (%)              -0.615842     -0.151494     -0.843835  -0.150841   \n",
       "VPmax (mbar)         1.000000      0.824865      0.875588   0.824460   \n",
       "VPact (mbar)         0.824865      1.000000      0.449154   0.999851   \n",
       "VPdef (mbar)         0.875588      0.449154      1.000000   0.448641   \n",
       "sh (g/kg)            0.824460      0.999851      0.448641   1.000000   \n",
       "H2OC (mmol/mol)      0.824493      0.999856      0.448689   0.999997   \n",
       "rho (g/m**3)        -0.901536     -0.850241     -0.698290  -0.853325   \n",
       "wv (m/s)            -0.004018     -0.009600      0.001852  -0.009479   \n",
       "max. wv (m/s)       -0.002213     -0.010316      0.005317  -0.010163   \n",
       "wd (deg)            -0.009583      0.018418     -0.030881   0.019376   \n",
       "\n",
       "                 H2OC (mmol/mol)  rho (g/m**3)  wv (m/s)  max. wv (m/s)  \\\n",
       "p (mbar)               -0.069804      0.307640 -0.005701      -0.007760   \n",
       "T (degC)                0.867177     -0.963410 -0.004689      -0.002871   \n",
       "Tpot (K)                0.866955     -0.981345 -0.004195      -0.002224   \n",
       "Tdew (degC)             0.968044     -0.885232 -0.008718      -0.009091   \n",
       "rh (%)                 -0.150969      0.514282 -0.005020      -0.009921   \n",
       "VPmax (mbar)            0.824493     -0.901536 -0.004018      -0.002213   \n",
       "VPact (mbar)            0.999856     -0.850241 -0.009600      -0.010316   \n",
       "VPdef (mbar)            0.448689     -0.698290  0.001852       0.005317   \n",
       "sh (g/kg)               0.999997     -0.853325 -0.009479      -0.010163   \n",
       "H2OC (mmol/mol)         1.000000     -0.853769 -0.009477      -0.010158   \n",
       "rho (g/m**3)           -0.853769      1.000000  0.003240       0.001086   \n",
       "wv (m/s)               -0.009477      0.003240  1.000000       0.948477   \n",
       "max. wv (m/s)          -0.010158      0.001086  0.948477       1.000000   \n",
       "wd (deg)                0.019607     -0.058072 -0.015322      -0.014471   \n",
       "\n",
       "                 wd (deg)  \n",
       "p (mbar)        -0.063258  \n",
       "T (degC)         0.038732  \n",
       "Tpot (K)         0.043599  \n",
       "Tdew (degC)      0.049877  \n",
       "rh (%)          -0.015912  \n",
       "VPmax (mbar)    -0.009583  \n",
       "VPact (mbar)     0.018418  \n",
       "VPdef (mbar)    -0.030881  \n",
       "sh (g/kg)        0.019376  \n",
       "H2OC (mmol/mol)  0.019607  \n",
       "rho (g/m**3)    -0.058072  \n",
       "wv (m/s)        -0.015322  \n",
       "max. wv (m/s)   -0.014471  \n",
       "wd (deg)         1.000000  "
      ]
     },
     "execution_count": 218,
     "metadata": {},
     "output_type": "execute_result"
    }
   ],
   "source": [
    "df.corr().T"
   ]
  },
  {
   "cell_type": "markdown",
   "metadata": {},
   "source": [
    "Select the parameters considering the corr values."
   ]
  },
  {
   "cell_type": "code",
   "execution_count": 219,
   "metadata": {},
   "outputs": [],
   "source": [
    "# (pd.DataFrame(df.corr().T['p (mbar)'])).size\n",
    "# (pd.DataFrame(df.corr().T['p (mbar)']))\n",
    "# df.corr().T['p (mbar)'].size"
   ]
  },
  {
   "cell_type": "code",
   "execution_count": 220,
   "metadata": {},
   "outputs": [],
   "source": [
    "# df.corr().T['p (mbar)']"
   ]
  },
  {
   "cell_type": "code",
   "execution_count": 221,
   "metadata": {},
   "outputs": [
    {
     "data": {
      "text/plain": [
       "0.0533456593950841"
      ]
     },
     "execution_count": 221,
     "metadata": {},
     "output_type": "execute_result"
    }
   ],
   "source": [
    "df.corr().T['p (mbar)'].mean()"
   ]
  },
  {
   "cell_type": "code",
   "execution_count": 222,
   "metadata": {},
   "outputs": [
    {
     "data": {
      "text/plain": [
       "Index(['Date Time', 'p (mbar)', 'T (degC)', 'Tpot (K)', 'Tdew (degC)',\n",
       "       'rh (%)', 'VPmax (mbar)', 'VPact (mbar)', 'VPdef (mbar)', 'sh (g/kg)',\n",
       "       'H2OC (mmol/mol)', 'rho (g/m**3)', 'wv (m/s)', 'max. wv (m/s)',\n",
       "       'wd (deg)'],\n",
       "      dtype='object')"
      ]
     },
     "execution_count": 222,
     "metadata": {},
     "output_type": "execute_result"
    }
   ],
   "source": [
    "df.columns"
   ]
  },
  {
   "cell_type": "code",
   "execution_count": 269,
   "metadata": {},
   "outputs": [],
   "source": [
    "cols = ['Date Time', 'p (mbar)', 'T (degC)', 'Tpot (K)', 'Tdew (degC)',\n",
    "       'rh (%)', 'VPmax (mbar)', 'VPact (mbar)', 'VPdef (mbar)', 'sh (g/kg)',\n",
    "       'H2OC (mmol/mol)', 'rho (g/m**3)', 'wv (m/s)', 'max. wv (m/s)',\n",
    "       'wd (deg)']"
   ]
  },
  {
   "cell_type": "code",
   "execution_count": 272,
   "metadata": {},
   "outputs": [
    {
     "data": {
      "text/plain": [
       "['p (mbar)',\n",
       " 'Tpot (K)',\n",
       " 'Tdew (degC)',\n",
       " 'VPact (mbar)',\n",
       " 'sh (g/kg)',\n",
       " 'H2OC (mmol/mol)',\n",
       " 'rho (g/m**3)',\n",
       " 'wd (deg)']"
      ]
     },
     "execution_count": 272,
     "metadata": {},
     "output_type": "execute_result"
    }
   ],
   "source": [
    "counter = 0\n",
    "selected_pars = []\n",
    "for i in list(df.corr().T['p (mbar)']):\n",
    "    counter +=1\n",
    "    if i > 0.05 or i < -0.05:\n",
    "#         print(cols[counter])\n",
    "#         print(i,'\\n')\n",
    "        selected_pars.append(cols[counter])\n",
    "selected_pars  "
   ]
  },
  {
   "cell_type": "code",
   "execution_count": 274,
   "metadata": {},
   "outputs": [
    {
     "data": {
      "image/png": "[encoded data removed]",
      "text/plain": [
       "<Figure size 720x720 with 2 Axes>"
      ]
     },
     "metadata": {
      "needs_background": "light"
     },
     "output_type": "display_data"
    }
   ],
   "source": [
    "data_counts_corr = df.corr()\n",
    "plt.figure(figsize=(10,10))\n",
    "sns.heatmap(data_counts_corr, \n",
    "            xticklabels=data_counts_corr.columns,\n",
    "            yticklabels=data_counts_corr.columns,\n",
    "            cmap='vlag',\n",
    "            annot=False,\n",
    "            linewidth=0.2)\n",
    "plt.savefig(\"../Figures/plot_01_01.png\")"
   ]
  },
  {
   "cell_type": "markdown",
   "metadata": {},
   "source": [
    "Let's narrow down the corr upper and lower values so the relationship between parameters in the heatmap plot would be more clear."
   ]
  },
  {
   "cell_type": "code",
   "execution_count": 273,
   "metadata": {},
   "outputs": [
    {
     "data": {
      "image/png": "[encoded data removed]",
      "text/plain": [
       "<Figure size 720x720 with 2 Axes>"
      ]
     },
     "metadata": {
      "needs_background": "light"
     },
     "output_type": "display_data"
    }
   ],
   "source": [
    "data_counts_corr = df.corr()\n",
    "plt.figure(figsize=(10,10))\n",
    "sns.heatmap(data_counts_corr, \n",
    "            xticklabels=data_counts_corr.columns,\n",
    "            yticklabels=data_counts_corr.columns,\n",
    "            cmap='vlag',\n",
    "            annot=False,\n",
    "            linewidth=0.2,\n",
    "            vmin=-0.07, vmax=0.07)\n",
    "plt.savefig(\"../Figures/plot_01_02.png\")"
   ]
  },
  {
   "cell_type": "markdown",
   "metadata": {},
   "source": [
    "The essential parameters to be considered for modeling are as follows.\n",
    "\n",
    "```\n",
    "'p (mbar)','Tpot (K)','Tdew (degC)','VPact (mbar)','sh (g/kg)','H2OC (mmol/mol)','rho (g/m**3)','wd (deg)'\n",
    "```"
   ]
  },
  {
   "cell_type": "code",
   "execution_count": null,
   "metadata": {},
   "outputs": [],
   "source": []
  }
 ],
 "metadata": {
  "kernelspec": {
   "display_name": "env",
   "language": "python",
   "name": "env"
  },
  "language_info": {
   "codemirror_mode": {
    "name": "ipython",
    "version": 3
   },
   "file_extension": ".py",
   "mimetype": "text/x-python",
   "name": "python",
   "nbconvert_exporter": "python",
   "pygments_lexer": "ipython3",
   "version": "3.7.1"
  }
 },
 "nbformat": 4,
 "nbformat_minor": 2
}
